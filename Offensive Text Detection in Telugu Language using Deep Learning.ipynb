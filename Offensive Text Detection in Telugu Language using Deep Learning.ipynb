{
  "nbformat": 4,
  "nbformat_minor": 0,
  "metadata": {
    "colab": {
      "provenance": []
    },
    "kernelspec": {
      "name": "python3",
      "display_name": "Python 3"
    },
    "language_info": {
      "name": "python"
    }
  },
  "cells": [
    {
      "cell_type": "code",
      "execution_count": 168,
      "metadata": {
        "id": "9pNMl84noa8n"
      },
      "outputs": [],
      "source": [
        "import nltk\n",
        "import pandas as pd\n",
        "import matplotlib.pyplot as plt\n",
        "import numpy as np\n",
        "import re\n",
        "import string\n",
        "from sklearn.model_selection import train_test_split\n",
        "import seaborn as sns\n",
        "import os"
      ]
    },
    {
      "cell_type": "code",
      "source": [
        "train_path = \"/content/vulgar csv dataset.csv\"\n",
        "\n",
        "\n",
        "telugu_vulgar_df = pd.read_csv(train_path)\n",
        "telugu_vulgar_df"
      ],
      "metadata": {
        "colab": {
          "base_uri": "https://localhost:8080/",
          "height": 645
        },
        "id": "hlhxzjQ9omYZ",
        "outputId": "e8b5a6d4-2d33-4aa8-ba0a-52472ee38838"
      },
      "execution_count": 169,
      "outputs": [
        {
          "output_type": "execute_result",
          "data": {
            "text/plain": [
              "                                                 Text    Type\n",
              "0   హీరోగా తెలుగు సినిమాల్లోకి ఎంట్రీ ఇచ్చిన నిఖిల...  Normal\n",
              "1    సినిమాల్లో యాక్షన్ స్టంట్లు చేసేటప్పుడు ఎక్కు...  Normal\n",
              "2   దక్షిణ భారతాన్ని ఆక్రమించేందుకు బీజేపీ పంచెలు ...  Normal\n",
              "3    నేటి మధ్యాహ్నం 1.59కి కౌంట్‌డౌన్‌ షురూశ్రీహరి...  Normal\n",
              "4    ‘ఏమి రా... అబ్బి... యాడికి పోయినావు’ అంటూ రాయ...  Normal\n",
              "5   \\nన్యూఢిల్లీ : ఆప్ సీనియర్ నేత కుమార్ విశ్వాస్...  Normal\n",
              "6   70రోజులు.. 60 కెమెరాల మధ్య.. 14 మంది కంటెస్టెం...  Normal\n",
              "7   న్యూఢిల్లీ: దేశవాళీ స్మార్ట్‌ఫోన్ తయారీ సంస్థ ...  Normal\n",
              "8   మహాత్ముడి అహింసా సిద్ధాంతంపై పాటఅమరావతి, నవంబర...  Normal\n",
              "9                     గుద్ద బలిసి కొట్టుకుంటున్నావురా  vulgar\n",
              "10                        నీకన్నా పిచ్చి పూకోడు ఉండడు  vulgar\n",
              "11                       పొట్టి నా కొడకా గుద్ద మూసుకో  vulgar\n",
              "12                                 అరేయ్ ముసలి మొడ్డ   vulgar\n",
              "13                             దెంగేయ్ రా ఇక్కడ నుండి  vulgar\n",
              "14             ఈ లంజా కొడుకు ఫోన్ లిఫ్ట్ చెయ్యడం లేదు  vulgar\n",
              "15           ఎక్కువ మాట్లాడితే గుద్ద లో గుణపం దింపుతా  vulgar\n",
              "16                             ఎర్రి పూకులు మీ ఇద్దరు  vulgar\n",
              "17                  గుద్ద ముస్కోని జిందాబాద్ కొట్టు    vulgar\n",
              "18                    గుద్దలో తంతే గద్దలా ఎగురుతావ్    vulgar"
            ],
            "text/html": [
              "\n",
              "  <div id=\"df-5389b04d-1338-4c1f-ad47-9cb8349f4ef3\">\n",
              "    <div class=\"colab-df-container\">\n",
              "      <div>\n",
              "<style scoped>\n",
              "    .dataframe tbody tr th:only-of-type {\n",
              "        vertical-align: middle;\n",
              "    }\n",
              "\n",
              "    .dataframe tbody tr th {\n",
              "        vertical-align: top;\n",
              "    }\n",
              "\n",
              "    .dataframe thead th {\n",
              "        text-align: right;\n",
              "    }\n",
              "</style>\n",
              "<table border=\"1\" class=\"dataframe\">\n",
              "  <thead>\n",
              "    <tr style=\"text-align: right;\">\n",
              "      <th></th>\n",
              "      <th>Text</th>\n",
              "      <th>Type</th>\n",
              "    </tr>\n",
              "  </thead>\n",
              "  <tbody>\n",
              "    <tr>\n",
              "      <th>0</th>\n",
              "      <td>హీరోగా తెలుగు సినిమాల్లోకి ఎంట్రీ ఇచ్చిన నిఖిల...</td>\n",
              "      <td>Normal</td>\n",
              "    </tr>\n",
              "    <tr>\n",
              "      <th>1</th>\n",
              "      <td>సినిమాల్లో యాక్షన్ స్టంట్లు చేసేటప్పుడు ఎక్కు...</td>\n",
              "      <td>Normal</td>\n",
              "    </tr>\n",
              "    <tr>\n",
              "      <th>2</th>\n",
              "      <td>దక్షిణ భారతాన్ని ఆక్రమించేందుకు బీజేపీ పంచెలు ...</td>\n",
              "      <td>Normal</td>\n",
              "    </tr>\n",
              "    <tr>\n",
              "      <th>3</th>\n",
              "      <td>నేటి మధ్యాహ్నం 1.59కి కౌంట్‌డౌన్‌ షురూశ్రీహరి...</td>\n",
              "      <td>Normal</td>\n",
              "    </tr>\n",
              "    <tr>\n",
              "      <th>4</th>\n",
              "      <td>‘ఏమి రా... అబ్బి... యాడికి పోయినావు’ అంటూ రాయ...</td>\n",
              "      <td>Normal</td>\n",
              "    </tr>\n",
              "    <tr>\n",
              "      <th>5</th>\n",
              "      <td>\\nన్యూఢిల్లీ : ఆప్ సీనియర్ నేత కుమార్ విశ్వాస్...</td>\n",
              "      <td>Normal</td>\n",
              "    </tr>\n",
              "    <tr>\n",
              "      <th>6</th>\n",
              "      <td>70రోజులు.. 60 కెమెరాల మధ్య.. 14 మంది కంటెస్టెం...</td>\n",
              "      <td>Normal</td>\n",
              "    </tr>\n",
              "    <tr>\n",
              "      <th>7</th>\n",
              "      <td>న్యూఢిల్లీ: దేశవాళీ స్మార్ట్‌ఫోన్ తయారీ సంస్థ ...</td>\n",
              "      <td>Normal</td>\n",
              "    </tr>\n",
              "    <tr>\n",
              "      <th>8</th>\n",
              "      <td>మహాత్ముడి అహింసా సిద్ధాంతంపై పాటఅమరావతి, నవంబర...</td>\n",
              "      <td>Normal</td>\n",
              "    </tr>\n",
              "    <tr>\n",
              "      <th>9</th>\n",
              "      <td>గుద్ద బలిసి కొట్టుకుంటున్నావురా</td>\n",
              "      <td>vulgar</td>\n",
              "    </tr>\n",
              "    <tr>\n",
              "      <th>10</th>\n",
              "      <td>నీకన్నా పిచ్చి పూకోడు ఉండడు</td>\n",
              "      <td>vulgar</td>\n",
              "    </tr>\n",
              "    <tr>\n",
              "      <th>11</th>\n",
              "      <td>పొట్టి నా కొడకా గుద్ద మూసుకో</td>\n",
              "      <td>vulgar</td>\n",
              "    </tr>\n",
              "    <tr>\n",
              "      <th>12</th>\n",
              "      <td>అరేయ్ ముసలి మొడ్డ</td>\n",
              "      <td>vulgar</td>\n",
              "    </tr>\n",
              "    <tr>\n",
              "      <th>13</th>\n",
              "      <td>దెంగేయ్ రా ఇక్కడ నుండి</td>\n",
              "      <td>vulgar</td>\n",
              "    </tr>\n",
              "    <tr>\n",
              "      <th>14</th>\n",
              "      <td>ఈ లంజా కొడుకు ఫోన్ లిఫ్ట్ చెయ్యడం లేదు</td>\n",
              "      <td>vulgar</td>\n",
              "    </tr>\n",
              "    <tr>\n",
              "      <th>15</th>\n",
              "      <td>ఎక్కువ మాట్లాడితే గుద్ద లో గుణపం దింపుతా</td>\n",
              "      <td>vulgar</td>\n",
              "    </tr>\n",
              "    <tr>\n",
              "      <th>16</th>\n",
              "      <td>ఎర్రి పూకులు మీ ఇద్దరు</td>\n",
              "      <td>vulgar</td>\n",
              "    </tr>\n",
              "    <tr>\n",
              "      <th>17</th>\n",
              "      <td>గుద్ద ముస్కోని జిందాబాద్ కొట్టు</td>\n",
              "      <td>vulgar</td>\n",
              "    </tr>\n",
              "    <tr>\n",
              "      <th>18</th>\n",
              "      <td>గుద్దలో తంతే గద్దలా ఎగురుతావ్</td>\n",
              "      <td>vulgar</td>\n",
              "    </tr>\n",
              "  </tbody>\n",
              "</table>\n",
              "</div>\n",
              "      <button class=\"colab-df-convert\" onclick=\"convertToInteractive('df-5389b04d-1338-4c1f-ad47-9cb8349f4ef3')\"\n",
              "              title=\"Convert this dataframe to an interactive table.\"\n",
              "              style=\"display:none;\">\n",
              "        \n",
              "  <svg xmlns=\"http://www.w3.org/2000/svg\" height=\"24px\"viewBox=\"0 0 24 24\"\n",
              "       width=\"24px\">\n",
              "    <path d=\"M0 0h24v24H0V0z\" fill=\"none\"/>\n",
              "    <path d=\"M18.56 5.44l.94 2.06.94-2.06 2.06-.94-2.06-.94-.94-2.06-.94 2.06-2.06.94zm-11 1L8.5 8.5l.94-2.06 2.06-.94-2.06-.94L8.5 2.5l-.94 2.06-2.06.94zm10 10l.94 2.06.94-2.06 2.06-.94-2.06-.94-.94-2.06-.94 2.06-2.06.94z\"/><path d=\"M17.41 7.96l-1.37-1.37c-.4-.4-.92-.59-1.43-.59-.52 0-1.04.2-1.43.59L10.3 9.45l-7.72 7.72c-.78.78-.78 2.05 0 2.83L4 21.41c.39.39.9.59 1.41.59.51 0 1.02-.2 1.41-.59l7.78-7.78 2.81-2.81c.8-.78.8-2.07 0-2.86zM5.41 20L4 18.59l7.72-7.72 1.47 1.35L5.41 20z\"/>\n",
              "  </svg>\n",
              "      </button>\n",
              "      \n",
              "  <style>\n",
              "    .colab-df-container {\n",
              "      display:flex;\n",
              "      flex-wrap:wrap;\n",
              "      gap: 12px;\n",
              "    }\n",
              "\n",
              "    .colab-df-convert {\n",
              "      background-color: #E8F0FE;\n",
              "      border: none;\n",
              "      border-radius: 50%;\n",
              "      cursor: pointer;\n",
              "      display: none;\n",
              "      fill: #1967D2;\n",
              "      height: 32px;\n",
              "      padding: 0 0 0 0;\n",
              "      width: 32px;\n",
              "    }\n",
              "\n",
              "    .colab-df-convert:hover {\n",
              "      background-color: #E2EBFA;\n",
              "      box-shadow: 0px 1px 2px rgba(60, 64, 67, 0.3), 0px 1px 3px 1px rgba(60, 64, 67, 0.15);\n",
              "      fill: #174EA6;\n",
              "    }\n",
              "\n",
              "    [theme=dark] .colab-df-convert {\n",
              "      background-color: #3B4455;\n",
              "      fill: #D2E3FC;\n",
              "    }\n",
              "\n",
              "    [theme=dark] .colab-df-convert:hover {\n",
              "      background-color: #434B5C;\n",
              "      box-shadow: 0px 1px 3px 1px rgba(0, 0, 0, 0.15);\n",
              "      filter: drop-shadow(0px 1px 2px rgba(0, 0, 0, 0.3));\n",
              "      fill: #FFFFFF;\n",
              "    }\n",
              "  </style>\n",
              "\n",
              "      <script>\n",
              "        const buttonEl =\n",
              "          document.querySelector('#df-5389b04d-1338-4c1f-ad47-9cb8349f4ef3 button.colab-df-convert');\n",
              "        buttonEl.style.display =\n",
              "          google.colab.kernel.accessAllowed ? 'block' : 'none';\n",
              "\n",
              "        async function convertToInteractive(key) {\n",
              "          const element = document.querySelector('#df-5389b04d-1338-4c1f-ad47-9cb8349f4ef3');\n",
              "          const dataTable =\n",
              "            await google.colab.kernel.invokeFunction('convertToInteractive',\n",
              "                                                     [key], {});\n",
              "          if (!dataTable) return;\n",
              "\n",
              "          const docLinkHtml = 'Like what you see? Visit the ' +\n",
              "            '<a target=\"_blank\" href=https://colab.research.google.com/notebooks/data_table.ipynb>data table notebook</a>'\n",
              "            + ' to learn more about interactive tables.';\n",
              "          element.innerHTML = '';\n",
              "          dataTable['output_type'] = 'display_data';\n",
              "          await google.colab.output.renderOutput(dataTable, element);\n",
              "          const docLink = document.createElement('div');\n",
              "          docLink.innerHTML = docLinkHtml;\n",
              "          element.appendChild(docLink);\n",
              "        }\n",
              "      </script>\n",
              "    </div>\n",
              "  </div>\n",
              "  "
            ]
          },
          "metadata": {},
          "execution_count": 169
        }
      ]
    },
    {
      "cell_type": "code",
      "source": [
        "telugu_vulgar_df.isna().sum()"
      ],
      "metadata": {
        "colab": {
          "base_uri": "https://localhost:8080/"
        },
        "id": "CUByDOcKpVvJ",
        "outputId": "5cf118ba-12c3-41f5-ab0e-8ce985801c9a"
      },
      "execution_count": 170,
      "outputs": [
        {
          "output_type": "execute_result",
          "data": {
            "text/plain": [
              "Text    0\n",
              "Type    0\n",
              "dtype: int64"
            ]
          },
          "metadata": {},
          "execution_count": 170
        }
      ]
    },
    {
      "cell_type": "code",
      "source": [
        "telugu_vulgar_df[\"Type\"].unique()"
      ],
      "metadata": {
        "colab": {
          "base_uri": "https://localhost:8080/"
        },
        "id": "cuhagtj6pfHZ",
        "outputId": "9b50c748-5bc3-4443-e1f6-d774c445fd9a"
      },
      "execution_count": 173,
      "outputs": [
        {
          "output_type": "execute_result",
          "data": {
            "text/plain": [
              "array(['Normal', 'vulgar'], dtype=object)"
            ]
          },
          "metadata": {},
          "execution_count": 173
        }
      ]
    },
    {
      "cell_type": "code",
      "source": [
        "type_dic = {}\n",
        "\n",
        "c = 0\n",
        "for un in telugu_vulgar_df[\"Type\"].unique():\n",
        "    if un not in type_dic:\n",
        "        type_dic[un] = c\n",
        "        c += 1\n",
        "        \n",
        "type_dic"
      ],
      "metadata": {
        "colab": {
          "base_uri": "https://localhost:8080/"
        },
        "id": "kY3w2jLgpi5W",
        "outputId": "7f013df7-1fd2-4289-ae9b-0eedd728e74e"
      },
      "execution_count": 174,
      "outputs": [
        {
          "output_type": "execute_result",
          "data": {
            "text/plain": [
              "{'Normal': 0, 'vulgar': 1}"
            ]
          },
          "metadata": {},
          "execution_count": 174
        }
      ]
    },
    {
      "cell_type": "code",
      "source": [
        "inv_type_dict = {v: k for k, v in type_dic.items()}"
      ],
      "metadata": {
        "id": "6NGZQU5Kpm0e"
      },
      "execution_count": 175,
      "outputs": []
    },
    {
      "cell_type": "code",
      "source": [
        "def func_type(s):\n",
        "    return type_dic[s]\n",
        "\n",
        "telugu_vulgar_df[\"Type\"] = telugu_vulgar_df[\"Type\"].apply(func_type)"
      ],
      "metadata": {
        "id": "tQvWOb4epqFG"
      },
      "execution_count": 176,
      "outputs": []
    },
    {
      "cell_type": "code",
      "source": [
        "pip install indic-nlp-library"
      ],
      "metadata": {
        "colab": {
          "base_uri": "https://localhost:8080/"
        },
        "id": "1hPSkxTDpzhL",
        "outputId": "36db8235-3b94-41d6-a56f-9be59966691b"
      },
      "execution_count": 178,
      "outputs": [
        {
          "output_type": "stream",
          "name": "stdout",
          "text": [
            "Looking in indexes: https://pypi.org/simple, https://us-python.pkg.dev/colab-wheels/public/simple/\n",
            "Requirement already satisfied: indic-nlp-library in /usr/local/lib/python3.10/dist-packages (0.92)\n",
            "Requirement already satisfied: sphinx-argparse in /usr/local/lib/python3.10/dist-packages (from indic-nlp-library) (0.4.0)\n",
            "Requirement already satisfied: sphinx-rtd-theme in /usr/local/lib/python3.10/dist-packages (from indic-nlp-library) (1.2.0)\n",
            "Requirement already satisfied: morfessor in /usr/local/lib/python3.10/dist-packages (from indic-nlp-library) (2.0.6)\n",
            "Requirement already satisfied: pandas in /usr/local/lib/python3.10/dist-packages (from indic-nlp-library) (1.5.3)\n",
            "Requirement already satisfied: numpy in /usr/local/lib/python3.10/dist-packages (from indic-nlp-library) (1.22.4)\n",
            "Requirement already satisfied: python-dateutil>=2.8.1 in /usr/local/lib/python3.10/dist-packages (from pandas->indic-nlp-library) (2.8.2)\n",
            "Requirement already satisfied: pytz>=2020.1 in /usr/local/lib/python3.10/dist-packages (from pandas->indic-nlp-library) (2022.7.1)\n",
            "Requirement already satisfied: sphinx>=1.2.0 in /usr/local/lib/python3.10/dist-packages (from sphinx-argparse->indic-nlp-library) (3.5.4)\n",
            "Requirement already satisfied: docutils<0.19 in /usr/local/lib/python3.10/dist-packages (from sphinx-rtd-theme->indic-nlp-library) (0.16)\n",
            "Requirement already satisfied: sphinxcontrib-jquery!=3.0.0,>=2.0.0 in /usr/local/lib/python3.10/dist-packages (from sphinx-rtd-theme->indic-nlp-library) (4.1)\n",
            "Requirement already satisfied: six>=1.5 in /usr/local/lib/python3.10/dist-packages (from python-dateutil>=2.8.1->pandas->indic-nlp-library) (1.16.0)\n",
            "Requirement already satisfied: sphinxcontrib-applehelp in /usr/local/lib/python3.10/dist-packages (from sphinx>=1.2.0->sphinx-argparse->indic-nlp-library) (1.0.4)\n",
            "Requirement already satisfied: sphinxcontrib-devhelp in /usr/local/lib/python3.10/dist-packages (from sphinx>=1.2.0->sphinx-argparse->indic-nlp-library) (1.0.2)\n",
            "Requirement already satisfied: sphinxcontrib-jsmath in /usr/local/lib/python3.10/dist-packages (from sphinx>=1.2.0->sphinx-argparse->indic-nlp-library) (1.0.1)\n",
            "Requirement already satisfied: sphinxcontrib-htmlhelp in /usr/local/lib/python3.10/dist-packages (from sphinx>=1.2.0->sphinx-argparse->indic-nlp-library) (2.0.1)\n",
            "Requirement already satisfied: sphinxcontrib-serializinghtml in /usr/local/lib/python3.10/dist-packages (from sphinx>=1.2.0->sphinx-argparse->indic-nlp-library) (1.1.5)\n",
            "Requirement already satisfied: sphinxcontrib-qthelp in /usr/local/lib/python3.10/dist-packages (from sphinx>=1.2.0->sphinx-argparse->indic-nlp-library) (1.0.3)\n",
            "Requirement already satisfied: Jinja2>=2.3 in /usr/local/lib/python3.10/dist-packages (from sphinx>=1.2.0->sphinx-argparse->indic-nlp-library) (3.1.2)\n",
            "Requirement already satisfied: Pygments>=2.0 in /usr/local/lib/python3.10/dist-packages (from sphinx>=1.2.0->sphinx-argparse->indic-nlp-library) (2.14.0)\n",
            "Requirement already satisfied: snowballstemmer>=1.1 in /usr/local/lib/python3.10/dist-packages (from sphinx>=1.2.0->sphinx-argparse->indic-nlp-library) (2.2.0)\n",
            "Requirement already satisfied: babel>=1.3 in /usr/local/lib/python3.10/dist-packages (from sphinx>=1.2.0->sphinx-argparse->indic-nlp-library) (2.12.1)\n",
            "Requirement already satisfied: alabaster<0.8,>=0.7 in /usr/local/lib/python3.10/dist-packages (from sphinx>=1.2.0->sphinx-argparse->indic-nlp-library) (0.7.13)\n",
            "Requirement already satisfied: imagesize in /usr/local/lib/python3.10/dist-packages (from sphinx>=1.2.0->sphinx-argparse->indic-nlp-library) (1.4.1)\n",
            "Requirement already satisfied: requests>=2.5.0 in /usr/local/lib/python3.10/dist-packages (from sphinx>=1.2.0->sphinx-argparse->indic-nlp-library) (2.27.1)\n",
            "Requirement already satisfied: setuptools in /usr/local/lib/python3.10/dist-packages (from sphinx>=1.2.0->sphinx-argparse->indic-nlp-library) (67.7.2)\n",
            "Requirement already satisfied: packaging in /usr/local/lib/python3.10/dist-packages (from sphinx>=1.2.0->sphinx-argparse->indic-nlp-library) (23.1)\n",
            "Requirement already satisfied: MarkupSafe>=2.0 in /usr/local/lib/python3.10/dist-packages (from Jinja2>=2.3->sphinx>=1.2.0->sphinx-argparse->indic-nlp-library) (2.1.2)\n",
            "Requirement already satisfied: urllib3<1.27,>=1.21.1 in /usr/local/lib/python3.10/dist-packages (from requests>=2.5.0->sphinx>=1.2.0->sphinx-argparse->indic-nlp-library) (1.26.15)\n",
            "Requirement already satisfied: certifi>=2017.4.17 in /usr/local/lib/python3.10/dist-packages (from requests>=2.5.0->sphinx>=1.2.0->sphinx-argparse->indic-nlp-library) (2022.12.7)\n",
            "Requirement already satisfied: charset-normalizer~=2.0.0 in /usr/local/lib/python3.10/dist-packages (from requests>=2.5.0->sphinx>=1.2.0->sphinx-argparse->indic-nlp-library) (2.0.12)\n",
            "Requirement already satisfied: idna<4,>=2.5 in /usr/local/lib/python3.10/dist-packages (from requests>=2.5.0->sphinx>=1.2.0->sphinx-argparse->indic-nlp-library) (3.4)\n"
          ]
        }
      ]
    },
    {
      "cell_type": "markdown",
      "source": [
        "#**Preprocessing the data**\n"
      ],
      "metadata": {
        "id": "yv_GMH0GXuKV"
      }
    },
    {
      "cell_type": "code",
      "source": [
        "from indicnlp.tokenize import sentence_tokenize\n",
        "\n",
        "indic_string = telugu_vulgar_df[\"Text\"][0]\n",
        "# Split the sentence, language code \"hi\" is passed for hingi\n",
        "sentences=sentence_tokenize.sentence_split(indic_string, lang='te')\n",
        "\n",
        "# print the sentences\n",
        "for t in sentences:\n",
        "    print(t)"
      ],
      "metadata": {
        "colab": {
          "base_uri": "https://localhost:8080/"
        },
        "id": "oPMM2cWfp8Eu",
        "outputId": "fd88b93c-3920-41e3-e796-a1c2e253aa08"
      },
      "execution_count": 179,
      "outputs": [
        {
          "output_type": "stream",
          "name": "stdout",
          "text": [
            "హీరోగా తెలుగు సినిమాల్లోకి ఎంట్రీ ఇచ్చిన నిఖిల్‌కు స్వామిరారా సినిమా పెద్ద బ్రేక్‌ ఇచ్చింది.\n",
            "ఆ సినిమా దర్శకుడు సుధీర్‌ వర్మ నిఖిల్‌కు మంచి స్నేహితుడు కూడా.\n",
            "స్వామిరారా నుండి నిఖిల్‌ కార్తికేయ, ఎక్కడికి పోతావు చిన్నవాడా చిత్రాలతో సక్సెస్‌ఫుల్‌ హీరోగా పేరు తెచ్చుకున్నాడు.\n",
            "క్రైమ్‌ కామెడి నేపథ్యంలో స్వామిరారా చిత్రాన్ని రూపొందించిన సుధీర్‌ వర్మ, నిఖిల్‌తో మరో సినిమా చేస్తున్నాడనగానే ఈ హిట్‌ ద్వయం ఎలాంటి సినిమా చేస్తుందో, ఈసారి ఎలాంటి జోనర్‌లో మూవీ చేస్తారోనని అనుకున్నారు.\n",
            "నిఖిల్‌, సుధీర్‌ వర్మ కాంబినేషన్‌లో రివేంజ్‌ డ్రామాగా 'కేశవ' చిత్రం రూపొందుతోందని తెలియగానే, విభిన్నమైన స్క్రిప్ట్‌లను ఎన్నుకునే నిఖిల్‌ కేశవలో ఎలా కనపడనున్నాడోనని అందరూ అనుకున్నారు.\n",
            "మరి కేశవ అందరి ఊహలను రీచ్‌ అయ్యిందా లేదా అని తెలుసుకుందాం. . . సమర్పణ: దేవాన్ష్‌ నామా నిర్మాణ సంస్థ: అభిషేక్‌ పిక్చర్స్‌తారాగణం: నిఖిల్‌, రీతూవర్మ, ప్రియదర్శి, వెన్నెలకిషోర్‌, నందకిషోర్‌, మధునందన్‌, అజయ్‌, రావు రమేష్‌, బ్రహ్మాజీ, రాజా రవీంద్ర తదితరులు సంగీతం: సన్ని ఎం.\n",
            "ఆర్‌ ఛాయాగ్రహణం: దివాకర్‌ మణి నేపథ్య సంగీతం: ప్రశాంత్‌ పిళ్ళై కూర్పు : ఎస్‌. ఆర్‌. శేఖర్‌ నిర్మాత: అభిషేక్‌ నామా కథ, కథనం, దర్శకత్వం: సుధీర్‌ వర్మ కథ: కేశవ(నిఖిల్‌)కి గుండె అందరిలా కాకుండా కుడి వైపు ఉండటంతో డాక్టర్స్‌ అతను హై ఎమోషనల్‌ ఫీలింగ్స్‌కు లోను కాకూడదని చెబుతారు.\n",
            "కాబట్టి ఏ విషయాన్ని అయినా టెన్షన్‌ లేకుండా కేశవ చేస్తుంటాడు.\n",
            "కేశవ చిన్నతనంలోనే తల్లిదండ్రులు కారు యాక్సిడెంట్‌లో చనిపోతారు.\n",
            "తన కుటుంబం ఎటూ కాకుండా పోయి, తాను ఏకాకిలా మిగలడానికి కారణమైన వారిని చంపాలనుకుంటాడు కేశవ్‌.\n",
            "ఒక పక్క కాకినాడ లా కాలేజ్‌లో చదువుతూనే హత్యలు చేస్తుంటాడు.\n",
            "కేశవ్‌కు చిన్ననాటి స్నేహితురాలైన సత్యభామ(రీతూ వర్మ) కూడా అదే కాలేజ్‌లో చేరుతుంది.\n",
            "కేశవకు, జరుగుతున్న హత్యలకు ఏదో సంబంధం ఉందనే విషయాన్ని సత్యభామ ముందుగానే పసిగడుతుంది.\n",
            "అయితే కేశవ గతం తెలుసుకుని అతని హెల్ప్‌ చేయాలని నిర్ణయించుకుంటుంది.\n",
            "వరుసగా పోలీసుల హత్యలు జరుగుతుండటంతో పోలీస్‌ డిపార్ట్‌మెంట్‌ హత్యలను విచారణ చేయడానికి సెషల్‌ ఆఫీసర్‌(ఇషా గోపీకర్‌)ను నియమిస్తారు.\n",
            "ఈ కేసుని విశ్లేషిస్తున్న తరుణంలో ఆమెకు కేశవపై అనుమానం వస్తుంది.\n",
            "మరి ఇషా గోపీకర్‌ నిఖిల్‌ను సాక్ష్యాలతో అరెస్ట్‌ చేస్తుందా?\n",
            "చివరకు హార్ట్‌ డిజార్డర్‌ ఉన్న కేశవ తన ప్రతీకారంలో భాగంగా అందరినీ చంపేస్తాడా?\n",
            "అసలు కేశవ హత్యలకు మూల కారణం ఎవరు?\n",
            "సత్యభామ, ప్రియదర్శిలు కాకుండా కేశవకు హత్యల విషయంలో ఇంకెవరెవరు సపోర్ట్‌ చేస్తారు తదితర విషయాలు తెలుసుకోవాలంటే సినిమా చూడాల్సిందే. . . బలాలు - ఛాయా గ్రహణం - సంగీతం - నేపథ్య సంగీతం - నిఖిల్‌ నటన - ప్రథమార్థం బలహీనతలు - ద్వితీయార్థం - కొన్ని చోట్ల లాజిక్స్‌ మిస్‌ కావడం విశ్లేషణ: సాధారణంగా హీరో కుటుంబానికి అన్యాయం జరగడం, హీరో దానికి ప్రతీకారం తీర్చుకోవడం అనే రివేంజ్‌ ఫార్ములాలో చాలా సినిమాలే వచ్చాయి.\n",
            "అయితే ఓ హార్డ్‌ డిజార్డర్‌ ఉండే హీరోకు అన్యాయం జరిగినప్పుడు, హీరో తన సమస్యను అధిగమించి ఎలా ప్రతీకారం తీర్చుకున్నాడనే పాయింట్‌ వినడానికి బావుంది.\n",
            "దర్శకుడు సుధీర్‌ వర్మ రివేంజ్‌ డ్రామాలో అసలు హీరో ఎందుకు హత్యలు చేస్తాడు అనే దాన్ని ప్రథమార్థంలో ఆసక్తికరంగా మలిచాడు.\n",
            "అలాగే హీరో, అతని ఫ్రెండ్స్‌ మధ్య వచ్చే కామెడి. . వెన్నెల కిషోర్‌ కామెడి సీన్స్ ఆకట్టుకున్నాయి.\n",
            "ఆడియెన్స్‌ వెన్నెల కిషోర్‌ కామెడిని ఎంజాయ్‌ చేస్తారు.\n",
            "పోలీసులు నిఖిల్‌ను చేజ్‌ చేయడం, పోలీసులను తప్పించుకుంటూ నిఖిల్‌ హత్యలు చేయడం వరకు ఫస్టాఫ్‌ ఆసక్తికరంగా సాగుతుంది.\n",
            "ఎప్పుడైతే సెకండాఫ్‌ స్టార్టవుతుందో అక్కడ నుండి స్క్రీన్‌ప్లే నెమ్మదించింది.\n",
            "నిఖిల్‌ హంతకుడు అని పోలీసులకు తెలిసినా కనీసం అతన్ని అరెస్ట్‌ కూడా చేయరు. . అదేంటో. ఇక నటన విషయానికొస్తే నిఖిల్‌ తన పాత్రలో ఒదిగిపోయాడు.\n",
            "రగ్‌డ్‌ లుక్‌తో తన పాత్రకు న్యాయం చేశాడు.\n",
            "రీతూ వర్మ పాత్ర పరిమితమే అయినా తనూ చక్కగా నటించింది.\n",
            "చాలా కాలం తర్వాత నటించిన ఇషా గోపీకర్‌ స్పెషల్‌ ఆఫీసర్‌ పాత్రలో మంచి నటనను కనపరిచింది.\n",
            "దర్శకుడు సుధీర్‌ వర్మ సెకండాఫ్‌ విషయంలో కాస్త కేర్‌ తీసుకుని ఉంటే ఇంకా బావుండేదనిపించింది.\n",
            "సన్ని ఎం. ఆర్‌. సంగీతం బావుంది.\n",
            "పాటలన్నీ సందర్భోచితంగానే వస్తాయి.\n",
            "కథలో భాగమైన సాంగ్స్‌ బావున్నాయి.\n",
            "అలాగే ప్రశాంత్‌ పిళ్ళై బ్యాక్‌గ్రౌండ్‌ స్కోర్‌ చాలా బావుంది.\n",
            "దివాకర్‌ మణి సినిమాటోగ్రఫీ సూపర్బ్‌.\n",
            "ప్రతి సీన్‌ను కొత్తగా చూపించే ప్రయత్నం చేశాడు.\n",
            "ఎడిటింగ్‌ ఓకే.\n",
            "బోటమ్‌ లైన్‌: ప్రతీకారమే పరమావధిగా సాగే 'కేశవ' రేటింగ్‌: 2.75/5\n"
          ]
        }
      ]
    },
    {
      "cell_type": "code",
      "source": [
        "telugu_vulgar_df[\"text_processed\"] = telugu_vulgar_df[\"Text\"].str.replace('\\u200c', '')\n",
        "telugu_vulgar_df[\"text_processed\"] = telugu_vulgar_df[\"text_processed\"].str.replace('\\n', '')\n",
        "telugu_vulgar_df[\"text_processed\"] = telugu_vulgar_df[\"text_processed\"].str.replace('\\t', '')\n",
        "telugu_vulgar_df[\"text_processed\"] = telugu_vulgar_df[\"text_processed\"].str.replace('\\xa0', '')"
      ],
      "metadata": {
        "id": "A_3V71Rmp-WU"
      },
      "execution_count": 180,
      "outputs": []
    },
    {
      "cell_type": "code",
      "source": [
        "PUNCT = string.punctuation\n",
        "\n",
        "def remove_punctuation(text):\n",
        "    return text.translate(str.maketrans('', '', PUNCT))"
      ],
      "metadata": {
        "id": "Ucd2pvSUqByr"
      },
      "execution_count": 181,
      "outputs": []
    },
    {
      "cell_type": "code",
      "source": [
        "telugu_vulgar_df[\"text_processed\"][5]"
      ],
      "metadata": {
        "colab": {
          "base_uri": "https://localhost:8080/",
          "height": 88
        },
        "id": "XP9xCddZqFEL",
        "outputId": "7f464d66-b76a-45bc-e953-a0aa07a2be15"
      },
      "execution_count": 182,
      "outputs": [
        {
          "output_type": "execute_result",
          "data": {
            "text/plain": [
              "'న్యూఢిల్లీ : ఆప్ సీనియర్ నేత కుమార్ విశ్వాస్తో తనకు భేదాభిప్రాయాలు ఉన్నట్లు జరుగుతున్న ప్రచారాన్ని ఢిల్లీ ముఖ్యమంత్రి అరవింద్ కేజ్రీవాల్ తోసిపుచ్చారు. విశ్వాస్ తన ట్విటర్ ఖాతాలో పోస్ట్ చేసిన వీడియోలో ఆప్ ప్రభుత్వాన్ని, కేజ్రీవాల్ను పరోక్షంగా విమర్శించిన సంగతి తెలిసిందే.ఓ ఇంటర్వ్యూ క్లిప్ను కేజ్రీవాల్ రీట్వీట్ చేశారు. విశ్వాస్ పట్ల తనకు కోపం లేదని, ఆయన తన కుటుంబ సభ్యుడని పేర్కొన్నారు. ఆయన కేవలం పార్టీ సభ్యుడు మాత్రమే కాదని, వాస్తవానికి కుటుంబ సభ్యుడని పేర్కొన్నారు. అలాంటి విషయాలపై రాద్దాంతం చేయడానికి మీడియా ఇష్టపడుతుందని, ఇకపై ‘‘నా భార్య నన్ను టార్గెట్ చేస్తున్నట్లు’’ మీడియా ప్రచారం చేయగలదన్నారు.'"
            ],
            "application/vnd.google.colaboratory.intrinsic+json": {
              "type": "string"
            }
          },
          "metadata": {},
          "execution_count": 182
        }
      ]
    },
    {
      "cell_type": "code",
      "source": [
        "from indicnlp.tokenize import sentence_tokenize\n",
        "\n",
        "\n",
        "tot_telugu_text1 = \"\"\n",
        "\n",
        "for t in telugu_vulgar_df[\"text_processed\"]:\n",
        "  tot_telugu_text1 += t\n",
        "\n",
        "# tot_sentances_telugu = []\n",
        "\n",
        "tot_sentences = sentence_tokenize.sentence_split(tot_telugu_text1, lang='te')\n",
        "print(len(tot_sentences))"
      ],
      "metadata": {
        "colab": {
          "base_uri": "https://localhost:8080/"
        },
        "id": "qJmwNy7DqKUQ",
        "outputId": "c207be8c-698f-4ce7-c34b-ae991cd8e179"
      },
      "execution_count": 183,
      "outputs": [
        {
          "output_type": "stream",
          "name": "stdout",
          "text": [
            "207\n"
          ]
        }
      ]
    },
    {
      "cell_type": "code",
      "source": [
        "telugu_vulgar_df[\"text_processed\"] = telugu_vulgar_df[\"text_processed\"].apply(lambda text: remove_punctuation(text))"
      ],
      "metadata": {
        "id": "l_O1kUONqO4D"
      },
      "execution_count": 184,
      "outputs": []
    },
    {
      "cell_type": "code",
      "source": [
        "del telugu_vulgar_df[\"Text\"]"
      ],
      "metadata": {
        "id": "EaNJyrbsqh1V"
      },
      "execution_count": 185,
      "outputs": []
    },
    {
      "cell_type": "code",
      "source": [
        "tot_telugu_text = \"\"\n",
        "\n",
        "c = 1\n",
        "for t in telugu_vulgar_df[\"text_processed\"]:\n",
        "  tot_telugu_text += t\n",
        "  c += 1\n",
        "\n",
        "print(c)"
      ],
      "metadata": {
        "colab": {
          "base_uri": "https://localhost:8080/"
        },
        "id": "DpJusq7UqjPD",
        "outputId": "70b391c3-3aff-46c2-ca90-7e3328864bbd"
      },
      "execution_count": 186,
      "outputs": [
        {
          "output_type": "stream",
          "name": "stdout",
          "text": [
            "20\n"
          ]
        }
      ]
    },
    {
      "cell_type": "code",
      "source": [
        "from indicnlp.tokenize import indic_tokenize  \n",
        "\n",
        "vocab_dic  = {}\n",
        "tokenized_text = []\n",
        "heap_arr = []\n",
        "\n",
        "for t in indic_tokenize.trivial_tokenize(tot_telugu_text):\n",
        "    tokenized_text.append(t)\n",
        "    heap_arr.append(len(vocab_dic))\n",
        "\n",
        "    if t not in vocab_dic:\n",
        "      vocab_dic[t] = 1\n",
        "\n",
        "    else:\n",
        "      vocab_dic[t] += 1"
      ],
      "metadata": {
        "id": "IAN-VGVWqmDb"
      },
      "execution_count": 187,
      "outputs": []
    },
    {
      "cell_type": "code",
      "source": [
        "from nltk.probability import FreqDist \n",
        "\n",
        "freq_dist = FreqDist(vocab_dic)"
      ],
      "metadata": {
        "id": "f9bPp93Yqpsa"
      },
      "execution_count": 188,
      "outputs": []
    },
    {
      "cell_type": "code",
      "source": [
        "vocab_dic_sorted = {k: v for k, v in sorted(vocab_dic.items(), key=lambda item: item[1], reverse = True)}"
      ],
      "metadata": {
        "id": "VZCFkD4ZqsqF"
      },
      "execution_count": 189,
      "outputs": []
    },
    {
      "cell_type": "code",
      "source": [
        "top_k_words = []\n",
        "\n",
        "k = 50\n",
        "c = 0\n",
        "\n",
        "for key in vocab_dic_sorted.keys():\n",
        "\n",
        "  if c == k:\n",
        "    break\n",
        "\n",
        "  top_k_words.append([key, vocab_dic_sorted[key]])\n",
        "  c += 1"
      ],
      "metadata": {
        "id": "88gsE0XfqwCH"
      },
      "execution_count": 190,
      "outputs": []
    },
    {
      "cell_type": "code",
      "source": [
        "top_k_words_df = pd.DataFrame(top_k_words)\n",
        "top_k_words_df.columns = [\"word\", \"freq\"]\n",
        "top_k_words_df.head()"
      ],
      "metadata": {
        "colab": {
          "base_uri": "https://localhost:8080/",
          "height": 206
        },
        "id": "JNgxs8Cbqydj",
        "outputId": "1365f724-085f-4ab6-c56d-279a3904d90d"
      },
      "execution_count": 191,
      "outputs": [
        {
          "output_type": "execute_result",
          "data": {
            "text/plain": [
              "   word  freq\n",
              "0     ఈ    16\n",
              "1     ఆ    15\n",
              "2   అని     9\n",
              "3  హీరో     9\n",
              "4    నా     9"
            ],
            "text/html": [
              "\n",
              "  <div id=\"df-6bbb2fea-8ccf-4a7b-a9c2-ba5f2cb41b16\">\n",
              "    <div class=\"colab-df-container\">\n",
              "      <div>\n",
              "<style scoped>\n",
              "    .dataframe tbody tr th:only-of-type {\n",
              "        vertical-align: middle;\n",
              "    }\n",
              "\n",
              "    .dataframe tbody tr th {\n",
              "        vertical-align: top;\n",
              "    }\n",
              "\n",
              "    .dataframe thead th {\n",
              "        text-align: right;\n",
              "    }\n",
              "</style>\n",
              "<table border=\"1\" class=\"dataframe\">\n",
              "  <thead>\n",
              "    <tr style=\"text-align: right;\">\n",
              "      <th></th>\n",
              "      <th>word</th>\n",
              "      <th>freq</th>\n",
              "    </tr>\n",
              "  </thead>\n",
              "  <tbody>\n",
              "    <tr>\n",
              "      <th>0</th>\n",
              "      <td>ఈ</td>\n",
              "      <td>16</td>\n",
              "    </tr>\n",
              "    <tr>\n",
              "      <th>1</th>\n",
              "      <td>ఆ</td>\n",
              "      <td>15</td>\n",
              "    </tr>\n",
              "    <tr>\n",
              "      <th>2</th>\n",
              "      <td>అని</td>\n",
              "      <td>9</td>\n",
              "    </tr>\n",
              "    <tr>\n",
              "      <th>3</th>\n",
              "      <td>హీరో</td>\n",
              "      <td>9</td>\n",
              "    </tr>\n",
              "    <tr>\n",
              "      <th>4</th>\n",
              "      <td>నా</td>\n",
              "      <td>9</td>\n",
              "    </tr>\n",
              "  </tbody>\n",
              "</table>\n",
              "</div>\n",
              "      <button class=\"colab-df-convert\" onclick=\"convertToInteractive('df-6bbb2fea-8ccf-4a7b-a9c2-ba5f2cb41b16')\"\n",
              "              title=\"Convert this dataframe to an interactive table.\"\n",
              "              style=\"display:none;\">\n",
              "        \n",
              "  <svg xmlns=\"http://www.w3.org/2000/svg\" height=\"24px\"viewBox=\"0 0 24 24\"\n",
              "       width=\"24px\">\n",
              "    <path d=\"M0 0h24v24H0V0z\" fill=\"none\"/>\n",
              "    <path d=\"M18.56 5.44l.94 2.06.94-2.06 2.06-.94-2.06-.94-.94-2.06-.94 2.06-2.06.94zm-11 1L8.5 8.5l.94-2.06 2.06-.94-2.06-.94L8.5 2.5l-.94 2.06-2.06.94zm10 10l.94 2.06.94-2.06 2.06-.94-2.06-.94-.94-2.06-.94 2.06-2.06.94z\"/><path d=\"M17.41 7.96l-1.37-1.37c-.4-.4-.92-.59-1.43-.59-.52 0-1.04.2-1.43.59L10.3 9.45l-7.72 7.72c-.78.78-.78 2.05 0 2.83L4 21.41c.39.39.9.59 1.41.59.51 0 1.02-.2 1.41-.59l7.78-7.78 2.81-2.81c.8-.78.8-2.07 0-2.86zM5.41 20L4 18.59l7.72-7.72 1.47 1.35L5.41 20z\"/>\n",
              "  </svg>\n",
              "      </button>\n",
              "      \n",
              "  <style>\n",
              "    .colab-df-container {\n",
              "      display:flex;\n",
              "      flex-wrap:wrap;\n",
              "      gap: 12px;\n",
              "    }\n",
              "\n",
              "    .colab-df-convert {\n",
              "      background-color: #E8F0FE;\n",
              "      border: none;\n",
              "      border-radius: 50%;\n",
              "      cursor: pointer;\n",
              "      display: none;\n",
              "      fill: #1967D2;\n",
              "      height: 32px;\n",
              "      padding: 0 0 0 0;\n",
              "      width: 32px;\n",
              "    }\n",
              "\n",
              "    .colab-df-convert:hover {\n",
              "      background-color: #E2EBFA;\n",
              "      box-shadow: 0px 1px 2px rgba(60, 64, 67, 0.3), 0px 1px 3px 1px rgba(60, 64, 67, 0.15);\n",
              "      fill: #174EA6;\n",
              "    }\n",
              "\n",
              "    [theme=dark] .colab-df-convert {\n",
              "      background-color: #3B4455;\n",
              "      fill: #D2E3FC;\n",
              "    }\n",
              "\n",
              "    [theme=dark] .colab-df-convert:hover {\n",
              "      background-color: #434B5C;\n",
              "      box-shadow: 0px 1px 3px 1px rgba(0, 0, 0, 0.15);\n",
              "      filter: drop-shadow(0px 1px 2px rgba(0, 0, 0, 0.3));\n",
              "      fill: #FFFFFF;\n",
              "    }\n",
              "  </style>\n",
              "\n",
              "      <script>\n",
              "        const buttonEl =\n",
              "          document.querySelector('#df-6bbb2fea-8ccf-4a7b-a9c2-ba5f2cb41b16 button.colab-df-convert');\n",
              "        buttonEl.style.display =\n",
              "          google.colab.kernel.accessAllowed ? 'block' : 'none';\n",
              "\n",
              "        async function convertToInteractive(key) {\n",
              "          const element = document.querySelector('#df-6bbb2fea-8ccf-4a7b-a9c2-ba5f2cb41b16');\n",
              "          const dataTable =\n",
              "            await google.colab.kernel.invokeFunction('convertToInteractive',\n",
              "                                                     [key], {});\n",
              "          if (!dataTable) return;\n",
              "\n",
              "          const docLinkHtml = 'Like what you see? Visit the ' +\n",
              "            '<a target=\"_blank\" href=https://colab.research.google.com/notebooks/data_table.ipynb>data table notebook</a>'\n",
              "            + ' to learn more about interactive tables.';\n",
              "          element.innerHTML = '';\n",
              "          dataTable['output_type'] = 'display_data';\n",
              "          await google.colab.output.renderOutput(dataTable, element);\n",
              "          const docLink = document.createElement('div');\n",
              "          docLink.innerHTML = docLinkHtml;\n",
              "          element.appendChild(docLink);\n",
              "        }\n",
              "      </script>\n",
              "    </div>\n",
              "  </div>\n",
              "  "
            ]
          },
          "metadata": {},
          "execution_count": 191
        }
      ]
    },
    {
      "cell_type": "code",
      "source": [
        "telugu_words = list(vocab_dic_sorted.keys())"
      ],
      "metadata": {
        "id": "cDyLxT5hq2xE"
      },
      "execution_count": 192,
      "outputs": []
    },
    {
      "cell_type": "code",
      "source": [
        "tot_sentences_proc = []\n",
        "\n",
        "for sen in tot_sentences:\n",
        "  tot_sentences_proc.append(remove_punctuation(sen))"
      ],
      "metadata": {
        "id": "BwliWMJ1q5zn"
      },
      "execution_count": 193,
      "outputs": []
    },
    {
      "cell_type": "code",
      "source": [
        "telugu_vulgar_df[\"Type\"].unique()"
      ],
      "metadata": {
        "colab": {
          "base_uri": "https://localhost:8080/"
        },
        "id": "K6uVfoU7rWcb",
        "outputId": "00bc237c-dae3-4755-b881-b8efeaf52314"
      },
      "execution_count": 194,
      "outputs": [
        {
          "output_type": "execute_result",
          "data": {
            "text/plain": [
              "array([0, 1])"
            ]
          },
          "metadata": {},
          "execution_count": 194
        }
      ]
    },
    {
      "cell_type": "markdown",
      "source": [
        "#**Training the data**"
      ],
      "metadata": {
        "id": "QERcm0JsX2a4"
      }
    },
    {
      "cell_type": "code",
      "source": [
        "test_path = \"/content/vulgar csv dataset.csv\"\n",
        "\n",
        "test_vulgar_df = pd.read_csv(test_path)\n",
        "\n",
        "test_vulgar_df.head()"
      ],
      "metadata": {
        "colab": {
          "base_uri": "https://localhost:8080/",
          "height": 206
        },
        "id": "HLDH9UJeu1OT",
        "outputId": "64979303-7e0f-465d-8e5f-9b2317617464"
      },
      "execution_count": 195,
      "outputs": [
        {
          "output_type": "execute_result",
          "data": {
            "text/plain": [
              "                                                Text    Type\n",
              "0  హీరోగా తెలుగు సినిమాల్లోకి ఎంట్రీ ఇచ్చిన నిఖిల...  Normal\n",
              "1   సినిమాల్లో యాక్షన్ స్టంట్లు చేసేటప్పుడు ఎక్కు...  Normal\n",
              "2  దక్షిణ భారతాన్ని ఆక్రమించేందుకు బీజేపీ పంచెలు ...  Normal\n",
              "3   నేటి మధ్యాహ్నం 1.59కి కౌంట్‌డౌన్‌ షురూశ్రీహరి...  Normal\n",
              "4   ‘ఏమి రా... అబ్బి... యాడికి పోయినావు’ అంటూ రాయ...  Normal"
            ],
            "text/html": [
              "\n",
              "  <div id=\"df-d80b25ec-35f6-41ca-b0d1-a80c9c2fb548\">\n",
              "    <div class=\"colab-df-container\">\n",
              "      <div>\n",
              "<style scoped>\n",
              "    .dataframe tbody tr th:only-of-type {\n",
              "        vertical-align: middle;\n",
              "    }\n",
              "\n",
              "    .dataframe tbody tr th {\n",
              "        vertical-align: top;\n",
              "    }\n",
              "\n",
              "    .dataframe thead th {\n",
              "        text-align: right;\n",
              "    }\n",
              "</style>\n",
              "<table border=\"1\" class=\"dataframe\">\n",
              "  <thead>\n",
              "    <tr style=\"text-align: right;\">\n",
              "      <th></th>\n",
              "      <th>Text</th>\n",
              "      <th>Type</th>\n",
              "    </tr>\n",
              "  </thead>\n",
              "  <tbody>\n",
              "    <tr>\n",
              "      <th>0</th>\n",
              "      <td>హీరోగా తెలుగు సినిమాల్లోకి ఎంట్రీ ఇచ్చిన నిఖిల...</td>\n",
              "      <td>Normal</td>\n",
              "    </tr>\n",
              "    <tr>\n",
              "      <th>1</th>\n",
              "      <td>సినిమాల్లో యాక్షన్ స్టంట్లు చేసేటప్పుడు ఎక్కు...</td>\n",
              "      <td>Normal</td>\n",
              "    </tr>\n",
              "    <tr>\n",
              "      <th>2</th>\n",
              "      <td>దక్షిణ భారతాన్ని ఆక్రమించేందుకు బీజేపీ పంచెలు ...</td>\n",
              "      <td>Normal</td>\n",
              "    </tr>\n",
              "    <tr>\n",
              "      <th>3</th>\n",
              "      <td>నేటి మధ్యాహ్నం 1.59కి కౌంట్‌డౌన్‌ షురూశ్రీహరి...</td>\n",
              "      <td>Normal</td>\n",
              "    </tr>\n",
              "    <tr>\n",
              "      <th>4</th>\n",
              "      <td>‘ఏమి రా... అబ్బి... యాడికి పోయినావు’ అంటూ రాయ...</td>\n",
              "      <td>Normal</td>\n",
              "    </tr>\n",
              "  </tbody>\n",
              "</table>\n",
              "</div>\n",
              "      <button class=\"colab-df-convert\" onclick=\"convertToInteractive('df-d80b25ec-35f6-41ca-b0d1-a80c9c2fb548')\"\n",
              "              title=\"Convert this dataframe to an interactive table.\"\n",
              "              style=\"display:none;\">\n",
              "        \n",
              "  <svg xmlns=\"http://www.w3.org/2000/svg\" height=\"24px\"viewBox=\"0 0 24 24\"\n",
              "       width=\"24px\">\n",
              "    <path d=\"M0 0h24v24H0V0z\" fill=\"none\"/>\n",
              "    <path d=\"M18.56 5.44l.94 2.06.94-2.06 2.06-.94-2.06-.94-.94-2.06-.94 2.06-2.06.94zm-11 1L8.5 8.5l.94-2.06 2.06-.94-2.06-.94L8.5 2.5l-.94 2.06-2.06.94zm10 10l.94 2.06.94-2.06 2.06-.94-2.06-.94-.94-2.06-.94 2.06-2.06.94z\"/><path d=\"M17.41 7.96l-1.37-1.37c-.4-.4-.92-.59-1.43-.59-.52 0-1.04.2-1.43.59L10.3 9.45l-7.72 7.72c-.78.78-.78 2.05 0 2.83L4 21.41c.39.39.9.59 1.41.59.51 0 1.02-.2 1.41-.59l7.78-7.78 2.81-2.81c.8-.78.8-2.07 0-2.86zM5.41 20L4 18.59l7.72-7.72 1.47 1.35L5.41 20z\"/>\n",
              "  </svg>\n",
              "      </button>\n",
              "      \n",
              "  <style>\n",
              "    .colab-df-container {\n",
              "      display:flex;\n",
              "      flex-wrap:wrap;\n",
              "      gap: 12px;\n",
              "    }\n",
              "\n",
              "    .colab-df-convert {\n",
              "      background-color: #E8F0FE;\n",
              "      border: none;\n",
              "      border-radius: 50%;\n",
              "      cursor: pointer;\n",
              "      display: none;\n",
              "      fill: #1967D2;\n",
              "      height: 32px;\n",
              "      padding: 0 0 0 0;\n",
              "      width: 32px;\n",
              "    }\n",
              "\n",
              "    .colab-df-convert:hover {\n",
              "      background-color: #E2EBFA;\n",
              "      box-shadow: 0px 1px 2px rgba(60, 64, 67, 0.3), 0px 1px 3px 1px rgba(60, 64, 67, 0.15);\n",
              "      fill: #174EA6;\n",
              "    }\n",
              "\n",
              "    [theme=dark] .colab-df-convert {\n",
              "      background-color: #3B4455;\n",
              "      fill: #D2E3FC;\n",
              "    }\n",
              "\n",
              "    [theme=dark] .colab-df-convert:hover {\n",
              "      background-color: #434B5C;\n",
              "      box-shadow: 0px 1px 3px 1px rgba(0, 0, 0, 0.15);\n",
              "      filter: drop-shadow(0px 1px 2px rgba(0, 0, 0, 0.3));\n",
              "      fill: #FFFFFF;\n",
              "    }\n",
              "  </style>\n",
              "\n",
              "      <script>\n",
              "        const buttonEl =\n",
              "          document.querySelector('#df-d80b25ec-35f6-41ca-b0d1-a80c9c2fb548 button.colab-df-convert');\n",
              "        buttonEl.style.display =\n",
              "          google.colab.kernel.accessAllowed ? 'block' : 'none';\n",
              "\n",
              "        async function convertToInteractive(key) {\n",
              "          const element = document.querySelector('#df-d80b25ec-35f6-41ca-b0d1-a80c9c2fb548');\n",
              "          const dataTable =\n",
              "            await google.colab.kernel.invokeFunction('convertToInteractive',\n",
              "                                                     [key], {});\n",
              "          if (!dataTable) return;\n",
              "\n",
              "          const docLinkHtml = 'Like what you see? Visit the ' +\n",
              "            '<a target=\"_blank\" href=https://colab.research.google.com/notebooks/data_table.ipynb>data table notebook</a>'\n",
              "            + ' to learn more about interactive tables.';\n",
              "          element.innerHTML = '';\n",
              "          dataTable['output_type'] = 'display_data';\n",
              "          await google.colab.output.renderOutput(dataTable, element);\n",
              "          const docLink = document.createElement('div');\n",
              "          docLink.innerHTML = docLinkHtml;\n",
              "          element.appendChild(docLink);\n",
              "        }\n",
              "      </script>\n",
              "    </div>\n",
              "  </div>\n",
              "  "
            ]
          },
          "metadata": {},
          "execution_count": 195
        }
      ]
    },
    {
      "cell_type": "code",
      "source": [
        "y_test = test_vulgar_df[\"Type\"].apply(func_type)\n",
        "del test_vulgar_df[\"Type\"]"
      ],
      "metadata": {
        "id": "mKs9GM_vu8kl"
      },
      "execution_count": 196,
      "outputs": []
    },
    {
      "cell_type": "code",
      "source": [
        "test_vulgar_df[\"text_processed\"] = test_vulgar_df[\"Text\"].str.replace('\\u200c', '')\n",
        "test_vulgar_df[\"text_processed\"] = test_vulgar_df[\"text_processed\"].str.replace('\\n', '')\n",
        "test_vulgar_df[\"text_processed\"] = test_vulgar_df[\"text_processed\"].str.replace('\\t', '')\n",
        "test_vulgar_df[\"text_processed\"] = test_vulgar_df[\"text_processed\"].str.replace('\\xa0', '')\n",
        "\n",
        "test_vulgar_df[\"text_processed\"] = test_vulgar_df[\"text_processed\"].apply(lambda text: remove_punctuation(text))\n",
        "\n",
        "del test_vulgar_df[\"Text\"]"
      ],
      "metadata": {
        "id": "z1ARhwRQvD-E"
      },
      "execution_count": 197,
      "outputs": []
    },
    {
      "cell_type": "code",
      "source": [
        "test_vulgar_df.head()"
      ],
      "metadata": {
        "colab": {
          "base_uri": "https://localhost:8080/",
          "height": 206
        },
        "id": "xlzRTwlgvFBH",
        "outputId": "cf48d6cc-26f1-4dcb-a27a-b2baf20ed583"
      },
      "execution_count": 198,
      "outputs": [
        {
          "output_type": "execute_result",
          "data": {
            "text/plain": [
              "                                      text_processed\n",
              "0  హీరోగా తెలుగు సినిమాల్లోకి ఎంట్రీ ఇచ్చిన నిఖిల...\n",
              "1   సినిమాల్లో యాక్షన్ స్టంట్లు చేసేటప్పుడు ఎక్కు...\n",
              "2  దక్షిణ భారతాన్ని ఆక్రమించేందుకు బీజేపీ పంచెలు ...\n",
              "3  నేటి మధ్యాహ్నం 159కి కౌంట్డౌన్ షురూశ్రీహరికోట ...\n",
              "4  ‘ఏమి రా అబ్బి యాడికి పోయినావు’ అంటూ రాయలసీమ యా..."
            ],
            "text/html": [
              "\n",
              "  <div id=\"df-3e653b52-1a3d-4dac-9e40-428eec620783\">\n",
              "    <div class=\"colab-df-container\">\n",
              "      <div>\n",
              "<style scoped>\n",
              "    .dataframe tbody tr th:only-of-type {\n",
              "        vertical-align: middle;\n",
              "    }\n",
              "\n",
              "    .dataframe tbody tr th {\n",
              "        vertical-align: top;\n",
              "    }\n",
              "\n",
              "    .dataframe thead th {\n",
              "        text-align: right;\n",
              "    }\n",
              "</style>\n",
              "<table border=\"1\" class=\"dataframe\">\n",
              "  <thead>\n",
              "    <tr style=\"text-align: right;\">\n",
              "      <th></th>\n",
              "      <th>text_processed</th>\n",
              "    </tr>\n",
              "  </thead>\n",
              "  <tbody>\n",
              "    <tr>\n",
              "      <th>0</th>\n",
              "      <td>హీరోగా తెలుగు సినిమాల్లోకి ఎంట్రీ ఇచ్చిన నిఖిల...</td>\n",
              "    </tr>\n",
              "    <tr>\n",
              "      <th>1</th>\n",
              "      <td>సినిమాల్లో యాక్షన్ స్టంట్లు చేసేటప్పుడు ఎక్కు...</td>\n",
              "    </tr>\n",
              "    <tr>\n",
              "      <th>2</th>\n",
              "      <td>దక్షిణ భారతాన్ని ఆక్రమించేందుకు బీజేపీ పంచెలు ...</td>\n",
              "    </tr>\n",
              "    <tr>\n",
              "      <th>3</th>\n",
              "      <td>నేటి మధ్యాహ్నం 159కి కౌంట్డౌన్ షురూశ్రీహరికోట ...</td>\n",
              "    </tr>\n",
              "    <tr>\n",
              "      <th>4</th>\n",
              "      <td>‘ఏమి రా అబ్బి యాడికి పోయినావు’ అంటూ రాయలసీమ యా...</td>\n",
              "    </tr>\n",
              "  </tbody>\n",
              "</table>\n",
              "</div>\n",
              "      <button class=\"colab-df-convert\" onclick=\"convertToInteractive('df-3e653b52-1a3d-4dac-9e40-428eec620783')\"\n",
              "              title=\"Convert this dataframe to an interactive table.\"\n",
              "              style=\"display:none;\">\n",
              "        \n",
              "  <svg xmlns=\"http://www.w3.org/2000/svg\" height=\"24px\"viewBox=\"0 0 24 24\"\n",
              "       width=\"24px\">\n",
              "    <path d=\"M0 0h24v24H0V0z\" fill=\"none\"/>\n",
              "    <path d=\"M18.56 5.44l.94 2.06.94-2.06 2.06-.94-2.06-.94-.94-2.06-.94 2.06-2.06.94zm-11 1L8.5 8.5l.94-2.06 2.06-.94-2.06-.94L8.5 2.5l-.94 2.06-2.06.94zm10 10l.94 2.06.94-2.06 2.06-.94-2.06-.94-.94-2.06-.94 2.06-2.06.94z\"/><path d=\"M17.41 7.96l-1.37-1.37c-.4-.4-.92-.59-1.43-.59-.52 0-1.04.2-1.43.59L10.3 9.45l-7.72 7.72c-.78.78-.78 2.05 0 2.83L4 21.41c.39.39.9.59 1.41.59.51 0 1.02-.2 1.41-.59l7.78-7.78 2.81-2.81c.8-.78.8-2.07 0-2.86zM5.41 20L4 18.59l7.72-7.72 1.47 1.35L5.41 20z\"/>\n",
              "  </svg>\n",
              "      </button>\n",
              "      \n",
              "  <style>\n",
              "    .colab-df-container {\n",
              "      display:flex;\n",
              "      flex-wrap:wrap;\n",
              "      gap: 12px;\n",
              "    }\n",
              "\n",
              "    .colab-df-convert {\n",
              "      background-color: #E8F0FE;\n",
              "      border: none;\n",
              "      border-radius: 50%;\n",
              "      cursor: pointer;\n",
              "      display: none;\n",
              "      fill: #1967D2;\n",
              "      height: 32px;\n",
              "      padding: 0 0 0 0;\n",
              "      width: 32px;\n",
              "    }\n",
              "\n",
              "    .colab-df-convert:hover {\n",
              "      background-color: #E2EBFA;\n",
              "      box-shadow: 0px 1px 2px rgba(60, 64, 67, 0.3), 0px 1px 3px 1px rgba(60, 64, 67, 0.15);\n",
              "      fill: #174EA6;\n",
              "    }\n",
              "\n",
              "    [theme=dark] .colab-df-convert {\n",
              "      background-color: #3B4455;\n",
              "      fill: #D2E3FC;\n",
              "    }\n",
              "\n",
              "    [theme=dark] .colab-df-convert:hover {\n",
              "      background-color: #434B5C;\n",
              "      box-shadow: 0px 1px 3px 1px rgba(0, 0, 0, 0.15);\n",
              "      filter: drop-shadow(0px 1px 2px rgba(0, 0, 0, 0.3));\n",
              "      fill: #FFFFFF;\n",
              "    }\n",
              "  </style>\n",
              "\n",
              "      <script>\n",
              "        const buttonEl =\n",
              "          document.querySelector('#df-3e653b52-1a3d-4dac-9e40-428eec620783 button.colab-df-convert');\n",
              "        buttonEl.style.display =\n",
              "          google.colab.kernel.accessAllowed ? 'block' : 'none';\n",
              "\n",
              "        async function convertToInteractive(key) {\n",
              "          const element = document.querySelector('#df-3e653b52-1a3d-4dac-9e40-428eec620783');\n",
              "          const dataTable =\n",
              "            await google.colab.kernel.invokeFunction('convertToInteractive',\n",
              "                                                     [key], {});\n",
              "          if (!dataTable) return;\n",
              "\n",
              "          const docLinkHtml = 'Like what you see? Visit the ' +\n",
              "            '<a target=\"_blank\" href=https://colab.research.google.com/notebooks/data_table.ipynb>data table notebook</a>'\n",
              "            + ' to learn more about interactive tables.';\n",
              "          element.innerHTML = '';\n",
              "          dataTable['output_type'] = 'display_data';\n",
              "          await google.colab.output.renderOutput(dataTable, element);\n",
              "          const docLink = document.createElement('div');\n",
              "          docLink.innerHTML = docLinkHtml;\n",
              "          element.appendChild(docLink);\n",
              "        }\n",
              "      </script>\n",
              "    </div>\n",
              "  </div>\n",
              "  "
            ]
          },
          "metadata": {},
          "execution_count": 198
        }
      ]
    },
    {
      "cell_type": "code",
      "source": [
        "categories = [i for i in range(2)]\n",
        "\n",
        "test_text = []\n",
        "for t in test_vulgar_df[\"text_processed\"]:\n",
        "  test_text.append(t)"
      ],
      "metadata": {
        "id": "iKoAAL2yvIlQ"
      },
      "execution_count": 199,
      "outputs": []
    },
    {
      "cell_type": "code",
      "source": [
        "x_test = test_text\n",
        "\n",
        "print(len(x_test) , len(y_test))"
      ],
      "metadata": {
        "colab": {
          "base_uri": "https://localhost:8080/"
        },
        "id": "RqBhx_envM5f",
        "outputId": "add35fa2-2ec2-49a1-d4bb-162e0a5294a8"
      },
      "execution_count": 200,
      "outputs": [
        {
          "output_type": "stream",
          "name": "stdout",
          "text": [
            "19 19\n"
          ]
        }
      ]
    },
    {
      "cell_type": "code",
      "source": [
        "from sklearn.feature_extraction.text import CountVectorizer, TfidfVectorizer"
      ],
      "metadata": {
        "id": "FCtf5y6tt1tx"
      },
      "execution_count": 201,
      "outputs": []
    },
    {
      "cell_type": "code",
      "source": [
        "categories = [i for i in range(2)]\n",
        "\n",
        "text_type = []\n",
        "for i in range(2):\n",
        "  curr_text = \"\"\n",
        "\n",
        "  for text in telugu_vulgar_df[telugu_vulgar_df[\"Type\"] == i][\"text_processed\"]:\n",
        "    curr_text += text\n",
        "    curr_text += \" \"\n",
        "    \n",
        "  text_type.append(curr_text)"
      ],
      "metadata": {
        "id": "sGByNhobt_cw"
      },
      "execution_count": 202,
      "outputs": []
    },
    {
      "cell_type": "code",
      "source": [
        "len(text_type)\n",
        "\n",
        "for i in range(2):\n",
        "  print(len(text_type[i]))"
      ],
      "metadata": {
        "colab": {
          "base_uri": "https://localhost:8080/"
        },
        "id": "WgegyEwmuHek",
        "outputId": "a51705d5-9dac-448b-a41d-afeef48b906f"
      },
      "execution_count": 203,
      "outputs": [
        {
          "output_type": "stream",
          "name": "stdout",
          "text": [
            "16672\n",
            "300\n"
          ]
        }
      ]
    },
    {
      "cell_type": "code",
      "source": [
        "from indicnlp.tokenize import indic_tokenize  \n",
        "\n",
        "\n",
        "def get_all_vocab(tot_text):\n",
        "  dic = {}\n",
        "  for t in indic_tokenize.trivial_tokenize(tot_text): \n",
        "    if t not in dic:\n",
        "      dic[t] = 1\n",
        "    else:\n",
        "      dic[t] += 1\n",
        "\n",
        "  return dic \n",
        "  \n",
        "tot_text = \"\"\n",
        "for i in range(2):\n",
        "  tot_text += text_type[i]"
      ],
      "metadata": {
        "id": "fxYxeaUguJzH"
      },
      "execution_count": 204,
      "outputs": []
    },
    {
      "cell_type": "code",
      "source": [
        "tot_vocab = get_all_vocab(tot_text)\n",
        "tot_vocab = {k: v for k, v in sorted(tot_vocab.items(), key=lambda item: item[1], reverse = True)}\n",
        "\n",
        "print(len(tot_vocab))"
      ],
      "metadata": {
        "colab": {
          "base_uri": "https://localhost:8080/"
        },
        "id": "FFpgaHM2uPZS",
        "outputId": "64e674c9-56ed-431e-f9a4-5b177e600280"
      },
      "execution_count": 205,
      "outputs": [
        {
          "output_type": "stream",
          "name": "stdout",
          "text": [
            "1556\n"
          ]
        }
      ]
    },
    {
      "cell_type": "code",
      "source": [
        "x_train = text_type\n",
        "y_train = categories"
      ],
      "metadata": {
        "id": "fb3ZQPdIuT8z"
      },
      "execution_count": 206,
      "outputs": []
    },
    {
      "cell_type": "code",
      "source": [
        "import regex \n",
        "from indicnlp.tokenize import indic_tokenize\n",
        "\n",
        "# Using custom analyser for the count vectorizer (as telugu is an indeic language)\n",
        "def custom_analyzer(text):\n",
        "    words = regex.findall(r'\\w{1,}', text) #extract words of at least 2 letters\n",
        "    for w in words:\n",
        "        yield w"
      ],
      "metadata": {
        "id": "Lf9P49zduZKl"
      },
      "execution_count": 207,
      "outputs": []
    },
    {
      "cell_type": "code",
      "source": [
        "count_vec = CountVectorizer(max_df = 0.75,min_df=0.1, lowercase = False , analyzer = custom_analyzer, max_features=100000, ngram_range=(1,2))\n",
        "\n",
        "x_train_features = count_vec.fit_transform(x_train)"
      ],
      "metadata": {
        "colab": {
          "base_uri": "https://localhost:8080/"
        },
        "id": "fXhczup6uaqA",
        "outputId": "da439113-c3be-4048-8fa8-4f1fe4b773ee"
      },
      "execution_count": 208,
      "outputs": [
        {
          "output_type": "stream",
          "name": "stderr",
          "text": [
            "/usr/local/lib/python3.10/dist-packages/sklearn/feature_extraction/text.py:544: UserWarning: The parameter 'ngram_range' will not be used since 'analyzer' is callable'\n",
            "  warnings.warn(\n"
          ]
        }
      ]
    },
    {
      "cell_type": "code",
      "source": [
        "x_train_features.shape"
      ],
      "metadata": {
        "colab": {
          "base_uri": "https://localhost:8080/"
        },
        "id": "rBb_EZMTue7m",
        "outputId": "e1a4d01e-3ff2-42aa-d65e-776d73673ca9"
      },
      "execution_count": 209,
      "outputs": [
        {
          "output_type": "execute_result",
          "data": {
            "text/plain": [
              "(2, 1541)"
            ]
          },
          "metadata": {},
          "execution_count": 209
        }
      ]
    },
    {
      "cell_type": "code",
      "source": [
        "len(count_vec.stop_words_)"
      ],
      "metadata": {
        "colab": {
          "base_uri": "https://localhost:8080/"
        },
        "id": "xE8uYVL1uhy6",
        "outputId": "ee94f46e-0a06-4014-fcaa-e865cab43313"
      },
      "execution_count": 210,
      "outputs": [
        {
          "output_type": "execute_result",
          "data": {
            "text/plain": [
              "9"
            ]
          },
          "metadata": {},
          "execution_count": 210
        }
      ]
    },
    {
      "cell_type": "code",
      "source": [
        "print(count_vec.stop_words_)"
      ],
      "metadata": {
        "colab": {
          "base_uri": "https://localhost:8080/"
        },
        "id": "hN5vFTOMY8XS",
        "outputId": "a2418b71-043c-41cd-fe60-09a15e239336"
      },
      "execution_count": 211,
      "outputs": [
        {
          "output_type": "stream",
          "name": "stdout",
          "text": [
            "{'నా', 'ఇద్దరు', 'మీ', 'రా', 'లేదు', 'ఇక్కడ', 'ఈ', 'నుండి', 'ఫోన్'}\n"
          ]
        }
      ]
    },
    {
      "cell_type": "code",
      "source": [
        "x_test_features = count_vec.transform(x_test)"
      ],
      "metadata": {
        "id": "q6a1jRjoukjJ"
      },
      "execution_count": 212,
      "outputs": []
    },
    {
      "cell_type": "markdown",
      "source": [
        "#**MultinomialNB**"
      ],
      "metadata": {
        "id": "PeD5vnUoYDMD"
      }
    },
    {
      "cell_type": "code",
      "source": [
        "from sklearn.naive_bayes import MultinomialNB\n",
        "\n",
        "clf = MultinomialNB()\n",
        "clf.fit(x_train_features, y_train)\n",
        "MultinomialNB()"
      ],
      "metadata": {
        "colab": {
          "base_uri": "https://localhost:8080/",
          "height": 75
        },
        "id": "R-Nwh658vRfQ",
        "outputId": "1818860e-6c6e-415f-cdd0-a4959c176c80"
      },
      "execution_count": 238,
      "outputs": [
        {
          "output_type": "execute_result",
          "data": {
            "text/plain": [
              "MultinomialNB()"
            ],
            "text/html": [
              "<style>#sk-container-id-10 {color: black;background-color: white;}#sk-container-id-10 pre{padding: 0;}#sk-container-id-10 div.sk-toggleable {background-color: white;}#sk-container-id-10 label.sk-toggleable__label {cursor: pointer;display: block;width: 100%;margin-bottom: 0;padding: 0.3em;box-sizing: border-box;text-align: center;}#sk-container-id-10 label.sk-toggleable__label-arrow:before {content: \"▸\";float: left;margin-right: 0.25em;color: #696969;}#sk-container-id-10 label.sk-toggleable__label-arrow:hover:before {color: black;}#sk-container-id-10 div.sk-estimator:hover label.sk-toggleable__label-arrow:before {color: black;}#sk-container-id-10 div.sk-toggleable__content {max-height: 0;max-width: 0;overflow: hidden;text-align: left;background-color: #f0f8ff;}#sk-container-id-10 div.sk-toggleable__content pre {margin: 0.2em;color: black;border-radius: 0.25em;background-color: #f0f8ff;}#sk-container-id-10 input.sk-toggleable__control:checked~div.sk-toggleable__content {max-height: 200px;max-width: 100%;overflow: auto;}#sk-container-id-10 input.sk-toggleable__control:checked~label.sk-toggleable__label-arrow:before {content: \"▾\";}#sk-container-id-10 div.sk-estimator input.sk-toggleable__control:checked~label.sk-toggleable__label {background-color: #d4ebff;}#sk-container-id-10 div.sk-label input.sk-toggleable__control:checked~label.sk-toggleable__label {background-color: #d4ebff;}#sk-container-id-10 input.sk-hidden--visually {border: 0;clip: rect(1px 1px 1px 1px);clip: rect(1px, 1px, 1px, 1px);height: 1px;margin: -1px;overflow: hidden;padding: 0;position: absolute;width: 1px;}#sk-container-id-10 div.sk-estimator {font-family: monospace;background-color: #f0f8ff;border: 1px dotted black;border-radius: 0.25em;box-sizing: border-box;margin-bottom: 0.5em;}#sk-container-id-10 div.sk-estimator:hover {background-color: #d4ebff;}#sk-container-id-10 div.sk-parallel-item::after {content: \"\";width: 100%;border-bottom: 1px solid gray;flex-grow: 1;}#sk-container-id-10 div.sk-label:hover label.sk-toggleable__label {background-color: #d4ebff;}#sk-container-id-10 div.sk-serial::before {content: \"\";position: absolute;border-left: 1px solid gray;box-sizing: border-box;top: 0;bottom: 0;left: 50%;z-index: 0;}#sk-container-id-10 div.sk-serial {display: flex;flex-direction: column;align-items: center;background-color: white;padding-right: 0.2em;padding-left: 0.2em;position: relative;}#sk-container-id-10 div.sk-item {position: relative;z-index: 1;}#sk-container-id-10 div.sk-parallel {display: flex;align-items: stretch;justify-content: center;background-color: white;position: relative;}#sk-container-id-10 div.sk-item::before, #sk-container-id-10 div.sk-parallel-item::before {content: \"\";position: absolute;border-left: 1px solid gray;box-sizing: border-box;top: 0;bottom: 0;left: 50%;z-index: -1;}#sk-container-id-10 div.sk-parallel-item {display: flex;flex-direction: column;z-index: 1;position: relative;background-color: white;}#sk-container-id-10 div.sk-parallel-item:first-child::after {align-self: flex-end;width: 50%;}#sk-container-id-10 div.sk-parallel-item:last-child::after {align-self: flex-start;width: 50%;}#sk-container-id-10 div.sk-parallel-item:only-child::after {width: 0;}#sk-container-id-10 div.sk-dashed-wrapped {border: 1px dashed gray;margin: 0 0.4em 0.5em 0.4em;box-sizing: border-box;padding-bottom: 0.4em;background-color: white;}#sk-container-id-10 div.sk-label label {font-family: monospace;font-weight: bold;display: inline-block;line-height: 1.2em;}#sk-container-id-10 div.sk-label-container {text-align: center;}#sk-container-id-10 div.sk-container {/* jupyter's `normalize.less` sets `[hidden] { display: none; }` but bootstrap.min.css set `[hidden] { display: none !important; }` so we also need the `!important` here to be able to override the default hidden behavior on the sphinx rendered scikit-learn.org. See: https://github.com/scikit-learn/scikit-learn/issues/21755 */display: inline-block !important;position: relative;}#sk-container-id-10 div.sk-text-repr-fallback {display: none;}</style><div id=\"sk-container-id-10\" class=\"sk-top-container\"><div class=\"sk-text-repr-fallback\"><pre>MultinomialNB()</pre><b>In a Jupyter environment, please rerun this cell to show the HTML representation or trust the notebook. <br />On GitHub, the HTML representation is unable to render, please try loading this page with nbviewer.org.</b></div><div class=\"sk-container\" hidden><div class=\"sk-item\"><div class=\"sk-estimator sk-toggleable\"><input class=\"sk-toggleable__control sk-hidden--visually\" id=\"sk-estimator-id-10\" type=\"checkbox\" checked><label for=\"sk-estimator-id-10\" class=\"sk-toggleable__label sk-toggleable__label-arrow\">MultinomialNB</label><div class=\"sk-toggleable__content\"><pre>MultinomialNB()</pre></div></div></div></div></div>"
            ]
          },
          "metadata": {},
          "execution_count": 238
        }
      ]
    },
    {
      "cell_type": "code",
      "source": [
        "print(\"Test score :- \", clf.score(x_test_features, y_test))"
      ],
      "metadata": {
        "colab": {
          "base_uri": "https://localhost:8080/"
        },
        "id": "36NF2CXqvYk_",
        "outputId": "c236a528-7a99-43ae-80e8-4c2842f9331f"
      },
      "execution_count": 239,
      "outputs": [
        {
          "output_type": "stream",
          "name": "stdout",
          "text": [
            "Test score :-  1.0\n"
          ]
        }
      ]
    },
    {
      "cell_type": "code",
      "source": [
        "from sklearn.metrics import classification_report\n",
        "\n",
        "y_pred_test = clf.predict(x_test_features)\n",
        "target_names = list(inv_type_dict.values())"
      ],
      "metadata": {
        "id": "mE7vkglhvb8g"
      },
      "execution_count": 240,
      "outputs": []
    },
    {
      "cell_type": "code",
      "source": [
        "print(classification_report(y_test, y_pred_test, target_names=target_names))"
      ],
      "metadata": {
        "colab": {
          "base_uri": "https://localhost:8080/"
        },
        "id": "SJs1R7euverA",
        "outputId": "8f217ef3-114a-4337-f557-f423562266ac"
      },
      "execution_count": 241,
      "outputs": [
        {
          "output_type": "stream",
          "name": "stdout",
          "text": [
            "              precision    recall  f1-score   support\n",
            "\n",
            "      Normal       1.00      1.00      1.00         9\n",
            "      vulgar       1.00      1.00      1.00        10\n",
            "\n",
            "    accuracy                           1.00        19\n",
            "   macro avg       1.00      1.00      1.00        19\n",
            "weighted avg       1.00      1.00      1.00        19\n",
            "\n"
          ]
        }
      ]
    },
    {
      "cell_type": "code",
      "source": [
        "from sklearn.metrics import confusion_matrix, classification_report,accuracy_score,average_precision_score,f1_score\n",
        "confusion_mat = confusion_matrix(y_test, y_pred_test)\n",
        "\n",
        "plt.figure(figsize=(10,4))\n",
        "plt.title(\"Confusion matrix for test data\")\n",
        "plt.xlabel(\"Predicted class\")\n",
        "plt.ylabel(\"True class\")\n",
        "\n",
        "sns.heatmap(confusion_mat, annot=True, cmap=\"Blues\",  xticklabels = target_names,\n",
        "           yticklabels=target_names)\n",
        "plt.show()"
      ],
      "metadata": {
        "colab": {
          "base_uri": "https://localhost:8080/",
          "height": 391
        },
        "id": "yQo4Do7_viv6",
        "outputId": "7a0ebf4f-5543-4792-e993-9fa3c07f6f52"
      },
      "execution_count": 249,
      "outputs": [
        {
          "output_type": "display_data",
          "data": {
            "text/plain": [
              "<Figure size 1000x400 with 2 Axes>"
            ],
            "image/png": "[encoded data removed]"
          },
          "metadata": {}
        }
      ]
    },
    {
      "cell_type": "code",
      "source": [
        "def predict_text_sample(test_text, inv_type_dict, clf, count_vec):\n",
        "  test_sample = [test_text]\n",
        "  x_test_sample_fetaures = count_vec.transform(test_sample)\n",
        "  y_pred_test_sample = clf.predict(x_test_sample_fetaures)\n",
        "\n",
        "  return inv_type_dict[y_pred_test_sample[0]]"
      ],
      "metadata": {
        "id": "WrPU08LWvpki"
      },
      "execution_count": 218,
      "outputs": []
    },
    {
      "cell_type": "markdown",
      "source": [
        "#**Prediction**"
      ],
      "metadata": {
        "id": "xm_C8ayJYHg4"
      }
    },
    {
      "cell_type": "code",
      "source": [
        "test_text =\"నా పేరు రాజ \"\n",
        "print(\"Prediced class is \" , predict_text_sample(test_text, inv_type_dict, clf, count_vec))"
      ],
      "metadata": {
        "colab": {
          "base_uri": "https://localhost:8080/"
        },
        "id": "6re2VczGvtaP",
        "outputId": "898c48ec-805c-4529-f233-401f80510d28"
      },
      "execution_count": 219,
      "outputs": [
        {
          "output_type": "stream",
          "name": "stdout",
          "text": [
            "Prediced class is  Normal\n"
          ]
        }
      ]
    },
    {
      "cell_type": "code",
      "source": [
        "test_text =\"ఈ లంజా కొడుకు ఫోన్ లిఫ్ట్ చెయ్యడం లేదు \"\n",
        "print(\"Prediced class is \" , predict_text_sample(test_text, inv_type_dict, clf, count_vec))"
      ],
      "metadata": {
        "colab": {
          "base_uri": "https://localhost:8080/"
        },
        "id": "Hsk887M7v0oG",
        "outputId": "5d56ffb4-7658-440a-dc8d-89d51dd31218"
      },
      "execution_count": 220,
      "outputs": [
        {
          "output_type": "stream",
          "name": "stdout",
          "text": [
            "Prediced class is  vulgar\n"
          ]
        }
      ]
    },
    {
      "cell_type": "markdown",
      "source": [
        "#**SVM**"
      ],
      "metadata": {
        "id": "8pERe2EFYMPx"
      }
    },
    {
      "cell_type": "code",
      "source": [
        "from sklearn.svm import SVC\n",
        "\n",
        "# Create an instance of the SVM classifier\n",
        "clf = SVC(kernel='linear')\n",
        "\n",
        "# Train the classifier on your data\n",
        "clf.fit(x_train_features, y_train)\n"
      ],
      "metadata": {
        "colab": {
          "base_uri": "https://localhost:8080/",
          "height": 75
        },
        "id": "c02-x4qwyZQn",
        "outputId": "2632d2d3-7b0b-48c3-ac98-258522e6ec16"
      },
      "execution_count": 223,
      "outputs": [
        {
          "output_type": "execute_result",
          "data": {
            "text/plain": [
              "SVC(kernel='linear')"
            ],
            "text/html": [
              "<style>#sk-container-id-8 {color: black;background-color: white;}#sk-container-id-8 pre{padding: 0;}#sk-container-id-8 div.sk-toggleable {background-color: white;}#sk-container-id-8 label.sk-toggleable__label {cursor: pointer;display: block;width: 100%;margin-bottom: 0;padding: 0.3em;box-sizing: border-box;text-align: center;}#sk-container-id-8 label.sk-toggleable__label-arrow:before {content: \"▸\";float: left;margin-right: 0.25em;color: #696969;}#sk-container-id-8 label.sk-toggleable__label-arrow:hover:before {color: black;}#sk-container-id-8 div.sk-estimator:hover label.sk-toggleable__label-arrow:before {color: black;}#sk-container-id-8 div.sk-toggleable__content {max-height: 0;max-width: 0;overflow: hidden;text-align: left;background-color: #f0f8ff;}#sk-container-id-8 div.sk-toggleable__content pre {margin: 0.2em;color: black;border-radius: 0.25em;background-color: #f0f8ff;}#sk-container-id-8 input.sk-toggleable__control:checked~div.sk-toggleable__content {max-height: 200px;max-width: 100%;overflow: auto;}#sk-container-id-8 input.sk-toggleable__control:checked~label.sk-toggleable__label-arrow:before {content: \"▾\";}#sk-container-id-8 div.sk-estimator input.sk-toggleable__control:checked~label.sk-toggleable__label {background-color: #d4ebff;}#sk-container-id-8 div.sk-label input.sk-toggleable__control:checked~label.sk-toggleable__label {background-color: #d4ebff;}#sk-container-id-8 input.sk-hidden--visually {border: 0;clip: rect(1px 1px 1px 1px);clip: rect(1px, 1px, 1px, 1px);height: 1px;margin: -1px;overflow: hidden;padding: 0;position: absolute;width: 1px;}#sk-container-id-8 div.sk-estimator {font-family: monospace;background-color: #f0f8ff;border: 1px dotted black;border-radius: 0.25em;box-sizing: border-box;margin-bottom: 0.5em;}#sk-container-id-8 div.sk-estimator:hover {background-color: #d4ebff;}#sk-container-id-8 div.sk-parallel-item::after {content: \"\";width: 100%;border-bottom: 1px solid gray;flex-grow: 1;}#sk-container-id-8 div.sk-label:hover label.sk-toggleable__label {background-color: #d4ebff;}#sk-container-id-8 div.sk-serial::before {content: \"\";position: absolute;border-left: 1px solid gray;box-sizing: border-box;top: 0;bottom: 0;left: 50%;z-index: 0;}#sk-container-id-8 div.sk-serial {display: flex;flex-direction: column;align-items: center;background-color: white;padding-right: 0.2em;padding-left: 0.2em;position: relative;}#sk-container-id-8 div.sk-item {position: relative;z-index: 1;}#sk-container-id-8 div.sk-parallel {display: flex;align-items: stretch;justify-content: center;background-color: white;position: relative;}#sk-container-id-8 div.sk-item::before, #sk-container-id-8 div.sk-parallel-item::before {content: \"\";position: absolute;border-left: 1px solid gray;box-sizing: border-box;top: 0;bottom: 0;left: 50%;z-index: -1;}#sk-container-id-8 div.sk-parallel-item {display: flex;flex-direction: column;z-index: 1;position: relative;background-color: white;}#sk-container-id-8 div.sk-parallel-item:first-child::after {align-self: flex-end;width: 50%;}#sk-container-id-8 div.sk-parallel-item:last-child::after {align-self: flex-start;width: 50%;}#sk-container-id-8 div.sk-parallel-item:only-child::after {width: 0;}#sk-container-id-8 div.sk-dashed-wrapped {border: 1px dashed gray;margin: 0 0.4em 0.5em 0.4em;box-sizing: border-box;padding-bottom: 0.4em;background-color: white;}#sk-container-id-8 div.sk-label label {font-family: monospace;font-weight: bold;display: inline-block;line-height: 1.2em;}#sk-container-id-8 div.sk-label-container {text-align: center;}#sk-container-id-8 div.sk-container {/* jupyter's `normalize.less` sets `[hidden] { display: none; }` but bootstrap.min.css set `[hidden] { display: none !important; }` so we also need the `!important` here to be able to override the default hidden behavior on the sphinx rendered scikit-learn.org. See: https://github.com/scikit-learn/scikit-learn/issues/21755 */display: inline-block !important;position: relative;}#sk-container-id-8 div.sk-text-repr-fallback {display: none;}</style><div id=\"sk-container-id-8\" class=\"sk-top-container\"><div class=\"sk-text-repr-fallback\"><pre>SVC(kernel=&#x27;linear&#x27;)</pre><b>In a Jupyter environment, please rerun this cell to show the HTML representation or trust the notebook. <br />On GitHub, the HTML representation is unable to render, please try loading this page with nbviewer.org.</b></div><div class=\"sk-container\" hidden><div class=\"sk-item\"><div class=\"sk-estimator sk-toggleable\"><input class=\"sk-toggleable__control sk-hidden--visually\" id=\"sk-estimator-id-8\" type=\"checkbox\" checked><label for=\"sk-estimator-id-8\" class=\"sk-toggleable__label sk-toggleable__label-arrow\">SVC</label><div class=\"sk-toggleable__content\"><pre>SVC(kernel=&#x27;linear&#x27;)</pre></div></div></div></div></div>"
            ]
          },
          "metadata": {},
          "execution_count": 223
        }
      ]
    },
    {
      "cell_type": "code",
      "source": [
        "print(\"Test score :- \", clf.score(x_test_features, y_test))"
      ],
      "metadata": {
        "colab": {
          "base_uri": "https://localhost:8080/"
        },
        "id": "slvLkfjuyZEX",
        "outputId": "984fc1c2-1d0d-4f77-8047-94b6f488b833"
      },
      "execution_count": 224,
      "outputs": [
        {
          "output_type": "stream",
          "name": "stdout",
          "text": [
            "Test score :-  0.5263157894736842\n"
          ]
        }
      ]
    },
    {
      "cell_type": "code",
      "source": [
        "from sklearn.metrics import classification_report\n",
        "\n",
        "y_pred_test = clf.predict(x_test_features)\n",
        "target_names = list(inv_type_dict.values())"
      ],
      "metadata": {
        "id": "72_mAofIb2IT"
      },
      "execution_count": 225,
      "outputs": []
    },
    {
      "cell_type": "code",
      "source": [
        "print(classification_report(y_test, y_pred_test, target_names=target_names))"
      ],
      "metadata": {
        "colab": {
          "base_uri": "https://localhost:8080/"
        },
        "id": "b4vUTdHZb2FP",
        "outputId": "a901ccd0-4335-46a2-e473-85c59cc8f2f5"
      },
      "execution_count": 226,
      "outputs": [
        {
          "output_type": "stream",
          "name": "stdout",
          "text": [
            "              precision    recall  f1-score   support\n",
            "\n",
            "      Normal       0.00      0.00      0.00         9\n",
            "      vulgar       0.53      1.00      0.69        10\n",
            "\n",
            "    accuracy                           0.53        19\n",
            "   macro avg       0.26      0.50      0.34        19\n",
            "weighted avg       0.28      0.53      0.36        19\n",
            "\n"
          ]
        },
        {
          "output_type": "stream",
          "name": "stderr",
          "text": [
            "/usr/local/lib/python3.10/dist-packages/sklearn/metrics/_classification.py:1344: UndefinedMetricWarning: Precision and F-score are ill-defined and being set to 0.0 in labels with no predicted samples. Use `zero_division` parameter to control this behavior.\n",
            "  _warn_prf(average, modifier, msg_start, len(result))\n",
            "/usr/local/lib/python3.10/dist-packages/sklearn/metrics/_classification.py:1344: UndefinedMetricWarning: Precision and F-score are ill-defined and being set to 0.0 in labels with no predicted samples. Use `zero_division` parameter to control this behavior.\n",
            "  _warn_prf(average, modifier, msg_start, len(result))\n",
            "/usr/local/lib/python3.10/dist-packages/sklearn/metrics/_classification.py:1344: UndefinedMetricWarning: Precision and F-score are ill-defined and being set to 0.0 in labels with no predicted samples. Use `zero_division` parameter to control this behavior.\n",
            "  _warn_prf(average, modifier, msg_start, len(result))\n"
          ]
        }
      ]
    },
    {
      "cell_type": "code",
      "source": [
        "from sklearn.metrics import confusion_matrix, classification_report,accuracy_score,average_precision_score,f1_score\n",
        "confusion_mat = confusion_matrix(y_test, y_pred_test)\n",
        "\n",
        "plt.figure(figsize=(10,4))\n",
        "plt.title(\"Confusion matrix for test data\")\n",
        "plt.xlabel(\"Predicted class\")\n",
        "plt.ylabel(\"True class\")\n",
        "\n",
        "sns.heatmap(confusion_mat, annot=True, cmap=\"Pastel2\",  xticklabels = target_names,\n",
        "           yticklabels=target_names)\n",
        "plt.show()"
      ],
      "metadata": {
        "colab": {
          "base_uri": "https://localhost:8080/",
          "height": 391
        },
        "id": "bkthjhaXb2CP",
        "outputId": "11d07a81-7e44-4385-9aa6-f0e69b97be56"
      },
      "execution_count": 259,
      "outputs": [
        {
          "output_type": "display_data",
          "data": {
            "text/plain": [
              "<Figure size 1000x400 with 2 Axes>"
            ],
            "image/png": "[encoded data removed]"
          },
          "metadata": {}
        }
      ]
    },
    {
      "cell_type": "code",
      "source": [
        "def predict_text_sample(test_text, inv_type_dict, clf, count_vec):\n",
        "  test_sample = [test_text]\n",
        "  x_test_sample_fetaures = count_vec.transform(test_sample)\n",
        "  y_pred_test_sample = clf.predict(x_test_sample_fetaures)\n",
        "\n",
        "  return inv_type_dict[y_pred_test_sample[0]]"
      ],
      "metadata": {
        "id": "BUBuzU6Db1-6"
      },
      "execution_count": 228,
      "outputs": []
    },
    {
      "cell_type": "code",
      "source": [
        "test_text =\"ఈ లంజా కొడుకు ఫోన్ లిఫ్ట్ చెయ్యడం లేదు \"\n",
        "print(\"Prediced class is \" , predict_text_sample(test_text, inv_type_dict, clf, count_vec))"
      ],
      "metadata": {
        "colab": {
          "base_uri": "https://localhost:8080/"
        },
        "id": "IvAK0Iglb16E",
        "outputId": "590e8073-9770-4d18-90fb-9f6420ad55c6"
      },
      "execution_count": 229,
      "outputs": [
        {
          "output_type": "stream",
          "name": "stdout",
          "text": [
            "Prediced class is  vulgar\n"
          ]
        }
      ]
    },
    {
      "cell_type": "code",
      "source": [
        "test_text =\"నా పేరు  \"\n",
        "print(\"Prediced class is \" , predict_text_sample(test_text, inv_type_dict, clf, count_vec))"
      ],
      "metadata": {
        "colab": {
          "base_uri": "https://localhost:8080/"
        },
        "id": "-yNUMnNDcO2C",
        "outputId": "69fffcac-e59f-4291-fbf3-a76ac49e13a2"
      },
      "execution_count": 230,
      "outputs": [
        {
          "output_type": "stream",
          "name": "stdout",
          "text": [
            "Prediced class is  vulgar\n"
          ]
        }
      ]
    },
    {
      "cell_type": "markdown",
      "source": [
        "#**LogisticRegression**"
      ],
      "metadata": {
        "id": "XB-KoGD0YUrd"
      }
    },
    {
      "cell_type": "code",
      "source": [
        "from sklearn.linear_model import LogisticRegression\n",
        "\n",
        "# Create an instance of Logistic Regression\n",
        "clf = LogisticRegression()\n",
        "clf.fit(x_train_features, y_train)\n",
        "\n",
        "# You can also specify additional parameters, if needed\n",
        "# For example, to set the regularization strength (C) to 0.5:\n",
        "# clf = LogisticRegression(C=0.5)\n"
      ],
      "metadata": {
        "colab": {
          "base_uri": "https://localhost:8080/",
          "height": 75
        },
        "id": "8ZkdRnzJLooR",
        "outputId": "ca9780c4-9701-4476-c079-677251a042ac"
      },
      "execution_count": 251,
      "outputs": [
        {
          "output_type": "execute_result",
          "data": {
            "text/plain": [
              "LogisticRegression()"
            ],
            "text/html": [
              "<style>#sk-container-id-11 {color: black;background-color: white;}#sk-container-id-11 pre{padding: 0;}#sk-container-id-11 div.sk-toggleable {background-color: white;}#sk-container-id-11 label.sk-toggleable__label {cursor: pointer;display: block;width: 100%;margin-bottom: 0;padding: 0.3em;box-sizing: border-box;text-align: center;}#sk-container-id-11 label.sk-toggleable__label-arrow:before {content: \"▸\";float: left;margin-right: 0.25em;color: #696969;}#sk-container-id-11 label.sk-toggleable__label-arrow:hover:before {color: black;}#sk-container-id-11 div.sk-estimator:hover label.sk-toggleable__label-arrow:before {color: black;}#sk-container-id-11 div.sk-toggleable__content {max-height: 0;max-width: 0;overflow: hidden;text-align: left;background-color: #f0f8ff;}#sk-container-id-11 div.sk-toggleable__content pre {margin: 0.2em;color: black;border-radius: 0.25em;background-color: #f0f8ff;}#sk-container-id-11 input.sk-toggleable__control:checked~div.sk-toggleable__content {max-height: 200px;max-width: 100%;overflow: auto;}#sk-container-id-11 input.sk-toggleable__control:checked~label.sk-toggleable__label-arrow:before {content: \"▾\";}#sk-container-id-11 div.sk-estimator input.sk-toggleable__control:checked~label.sk-toggleable__label {background-color: #d4ebff;}#sk-container-id-11 div.sk-label input.sk-toggleable__control:checked~label.sk-toggleable__label {background-color: #d4ebff;}#sk-container-id-11 input.sk-hidden--visually {border: 0;clip: rect(1px 1px 1px 1px);clip: rect(1px, 1px, 1px, 1px);height: 1px;margin: -1px;overflow: hidden;padding: 0;position: absolute;width: 1px;}#sk-container-id-11 div.sk-estimator {font-family: monospace;background-color: #f0f8ff;border: 1px dotted black;border-radius: 0.25em;box-sizing: border-box;margin-bottom: 0.5em;}#sk-container-id-11 div.sk-estimator:hover {background-color: #d4ebff;}#sk-container-id-11 div.sk-parallel-item::after {content: \"\";width: 100%;border-bottom: 1px solid gray;flex-grow: 1;}#sk-container-id-11 div.sk-label:hover label.sk-toggleable__label {background-color: #d4ebff;}#sk-container-id-11 div.sk-serial::before {content: \"\";position: absolute;border-left: 1px solid gray;box-sizing: border-box;top: 0;bottom: 0;left: 50%;z-index: 0;}#sk-container-id-11 div.sk-serial {display: flex;flex-direction: column;align-items: center;background-color: white;padding-right: 0.2em;padding-left: 0.2em;position: relative;}#sk-container-id-11 div.sk-item {position: relative;z-index: 1;}#sk-container-id-11 div.sk-parallel {display: flex;align-items: stretch;justify-content: center;background-color: white;position: relative;}#sk-container-id-11 div.sk-item::before, #sk-container-id-11 div.sk-parallel-item::before {content: \"\";position: absolute;border-left: 1px solid gray;box-sizing: border-box;top: 0;bottom: 0;left: 50%;z-index: -1;}#sk-container-id-11 div.sk-parallel-item {display: flex;flex-direction: column;z-index: 1;position: relative;background-color: white;}#sk-container-id-11 div.sk-parallel-item:first-child::after {align-self: flex-end;width: 50%;}#sk-container-id-11 div.sk-parallel-item:last-child::after {align-self: flex-start;width: 50%;}#sk-container-id-11 div.sk-parallel-item:only-child::after {width: 0;}#sk-container-id-11 div.sk-dashed-wrapped {border: 1px dashed gray;margin: 0 0.4em 0.5em 0.4em;box-sizing: border-box;padding-bottom: 0.4em;background-color: white;}#sk-container-id-11 div.sk-label label {font-family: monospace;font-weight: bold;display: inline-block;line-height: 1.2em;}#sk-container-id-11 div.sk-label-container {text-align: center;}#sk-container-id-11 div.sk-container {/* jupyter's `normalize.less` sets `[hidden] { display: none; }` but bootstrap.min.css set `[hidden] { display: none !important; }` so we also need the `!important` here to be able to override the default hidden behavior on the sphinx rendered scikit-learn.org. See: https://github.com/scikit-learn/scikit-learn/issues/21755 */display: inline-block !important;position: relative;}#sk-container-id-11 div.sk-text-repr-fallback {display: none;}</style><div id=\"sk-container-id-11\" class=\"sk-top-container\"><div class=\"sk-text-repr-fallback\"><pre>LogisticRegression()</pre><b>In a Jupyter environment, please rerun this cell to show the HTML representation or trust the notebook. <br />On GitHub, the HTML representation is unable to render, please try loading this page with nbviewer.org.</b></div><div class=\"sk-container\" hidden><div class=\"sk-item\"><div class=\"sk-estimator sk-toggleable\"><input class=\"sk-toggleable__control sk-hidden--visually\" id=\"sk-estimator-id-11\" type=\"checkbox\" checked><label for=\"sk-estimator-id-11\" class=\"sk-toggleable__label sk-toggleable__label-arrow\">LogisticRegression</label><div class=\"sk-toggleable__content\"><pre>LogisticRegression()</pre></div></div></div></div></div>"
            ]
          },
          "metadata": {},
          "execution_count": 251
        }
      ]
    },
    {
      "cell_type": "code",
      "source": [
        "print(\"Test score :- \", clf.score(x_test_features, y_test))"
      ],
      "metadata": {
        "colab": {
          "base_uri": "https://localhost:8080/"
        },
        "id": "1sI_npeXNADU",
        "outputId": "a3f2d0a1-721e-4ce0-bea1-1cb87e6571ec"
      },
      "execution_count": 252,
      "outputs": [
        {
          "output_type": "stream",
          "name": "stdout",
          "text": [
            "Test score :-  0.5263157894736842\n"
          ]
        }
      ]
    },
    {
      "cell_type": "code",
      "source": [
        "from sklearn.metrics import classification_report\n",
        "\n",
        "y_pred_test = clf.predict(x_test_features)\n",
        "target_names = list(inv_type_dict.values())"
      ],
      "metadata": {
        "id": "snoiZmGtNRRL"
      },
      "execution_count": 253,
      "outputs": []
    },
    {
      "cell_type": "code",
      "source": [
        "print(classification_report(y_test, y_pred_test, target_names=target_names))"
      ],
      "metadata": {
        "colab": {
          "base_uri": "https://localhost:8080/"
        },
        "id": "yBMWT2YVNWwg",
        "outputId": "209f3b6d-c0d4-44d6-f769-a48efdffd468"
      },
      "execution_count": 254,
      "outputs": [
        {
          "output_type": "stream",
          "name": "stdout",
          "text": [
            "              precision    recall  f1-score   support\n",
            "\n",
            "      Normal       0.00      0.00      0.00         9\n",
            "      vulgar       0.53      1.00      0.69        10\n",
            "\n",
            "    accuracy                           0.53        19\n",
            "   macro avg       0.26      0.50      0.34        19\n",
            "weighted avg       0.28      0.53      0.36        19\n",
            "\n"
          ]
        },
        {
          "output_type": "stream",
          "name": "stderr",
          "text": [
            "/usr/local/lib/python3.10/dist-packages/sklearn/metrics/_classification.py:1344: UndefinedMetricWarning: Precision and F-score are ill-defined and being set to 0.0 in labels with no predicted samples. Use `zero_division` parameter to control this behavior.\n",
            "  _warn_prf(average, modifier, msg_start, len(result))\n",
            "/usr/local/lib/python3.10/dist-packages/sklearn/metrics/_classification.py:1344: UndefinedMetricWarning: Precision and F-score are ill-defined and being set to 0.0 in labels with no predicted samples. Use `zero_division` parameter to control this behavior.\n",
            "  _warn_prf(average, modifier, msg_start, len(result))\n",
            "/usr/local/lib/python3.10/dist-packages/sklearn/metrics/_classification.py:1344: UndefinedMetricWarning: Precision and F-score are ill-defined and being set to 0.0 in labels with no predicted samples. Use `zero_division` parameter to control this behavior.\n",
            "  _warn_prf(average, modifier, msg_start, len(result))\n"
          ]
        }
      ]
    },
    {
      "cell_type": "code",
      "source": [
        "from sklearn.metrics import confusion_matrix, classification_report,accuracy_score,average_precision_score,f1_score\n",
        "confusion_mat = confusion_matrix(y_test, y_pred_test)\n",
        "\n",
        "plt.figure(figsize=(10,4))\n",
        "plt.title(\"Confusion matrix for test data\")\n",
        "plt.xlabel(\"Predicted class\")\n",
        "plt.ylabel(\"True class\")\n",
        "\n",
        "sns.heatmap(confusion_mat, annot=True, cmap=\"Greens\",  xticklabels = target_names,\n",
        "           yticklabels=target_names)\n",
        "plt.show()"
      ],
      "metadata": {
        "colab": {
          "base_uri": "https://localhost:8080/",
          "height": 391
        },
        "id": "tLwk_SY3NcAN",
        "outputId": "0d5ba7a7-eb1a-4dc0-8b00-f7d781bb24d2"
      },
      "execution_count": 255,
      "outputs": [
        {
          "output_type": "display_data",
          "data": {
            "text/plain": [
              "<Figure size 1000x400 with 2 Axes>"
            ],
            "image/png": "[encoded data removed]"
          },
          "metadata": {}
        }
      ]
    },
    {
      "cell_type": "code",
      "source": [
        "test_text =\"ఈ లంజా కొడుకు ఫోన్ లిఫ్ట్ చెయ్యడం లేదు \"\n",
        "print(\"Prediced class is \" , predict_text_sample(test_text, inv_type_dict, clf, count_vec))"
      ],
      "metadata": {
        "colab": {
          "base_uri": "https://localhost:8080/"
        },
        "id": "VAH1x9m3O3Mp",
        "outputId": "d294790a-7c4a-4d2a-82a3-41064ca62392"
      },
      "execution_count": 236,
      "outputs": [
        {
          "output_type": "stream",
          "name": "stdout",
          "text": [
            "Prediced class is  vulgar\n"
          ]
        }
      ]
    },
    {
      "cell_type": "code",
      "source": [
        "test_text =\"నా పేరు  \"\n",
        "print(\"Prediced class is \" , predict_text_sample(test_text, inv_type_dict, clf, count_vec))"
      ],
      "metadata": {
        "colab": {
          "base_uri": "https://localhost:8080/"
        },
        "id": "KxilDYPnO7cP",
        "outputId": "a191e7b2-43e7-4cc9-8489-b8bac16a0877"
      },
      "execution_count": 237,
      "outputs": [
        {
          "output_type": "stream",
          "name": "stdout",
          "text": [
            "Prediced class is  vulgar\n"
          ]
        }
      ]
    }
  ]
}